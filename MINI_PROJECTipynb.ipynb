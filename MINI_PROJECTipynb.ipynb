{
  "nbformat": 4,
  "nbformat_minor": 0,
  "metadata": {
    "colab": {
      "name": "MINI PROJECTipynb",
      "provenance": []
    },
    "kernelspec": {
      "name": "python3",
      "display_name": "Python 3"
    }
  },
  "cells": [
    {
      "cell_type": "code",
      "metadata": {
        "id": "J_Si_0x7EsSI",
        "colab_type": "code",
        "colab": {
          "base_uri": "https://localhost:8080/",
          "height": 90
        },
        "outputId": "401d07f4-85a3-4f94-8311-a98e19f44151"
      },
      "source": [
        "!pip install bing-image-downloader"
      ],
      "execution_count": 1,
      "outputs": [
        {
          "output_type": "stream",
          "text": [
            "Collecting bing-image-downloader\n",
            "  Downloading https://files.pythonhosted.org/packages/0d/bf/537a61030b84ae4cd5022d5c7b014fd9bc3ce7c02358919153a6658a61d3/bing_image_downloader-1.0.4-py3-none-any.whl\n",
            "Installing collected packages: bing-image-downloader\n",
            "Successfully installed bing-image-downloader-1.0.4\n"
          ],
          "name": "stdout"
        }
      ]
    },
    {
      "cell_type": "code",
      "metadata": {
        "id": "vIWEagZhE-NW",
        "colab_type": "code",
        "colab": {
          "base_uri": "https://localhost:8080/",
          "height": 35
        },
        "outputId": "ba059022-a09a-4c52-dc30-58bc537b1459"
      },
      "source": [
        "!ls"
      ],
      "execution_count": 2,
      "outputs": [
        {
          "output_type": "stream",
          "text": [
            "sample_data\n"
          ],
          "name": "stdout"
        }
      ]
    },
    {
      "cell_type": "code",
      "metadata": {
        "id": "yTIdmYuqFTTK",
        "colab_type": "code",
        "colab": {
          "base_uri": "https://localhost:8080/",
          "height": 35
        },
        "outputId": "b6571449-b25a-44ba-b606-35a19ade35ae"
      },
      "source": [
        "cd /content/drive/My Drive"
      ],
      "execution_count": 3,
      "outputs": [
        {
          "output_type": "stream",
          "text": [
            "/content/drive/My Drive\n"
          ],
          "name": "stdout"
        }
      ]
    },
    {
      "cell_type": "code",
      "metadata": {
        "id": "kp8cFSgjFf38",
        "colab_type": "code",
        "colab": {
          "base_uri": "https://localhost:8080/",
          "height": 1000
        },
        "outputId": "8479d93c-709b-4304-8119-a4ecb1aa6d27"
      },
      "source": [
        "from bing_image_downloader import downloader\n",
        "downloader.download(\"bus\",limit = 100, output_dir = 'images')"
      ],
      "execution_count": 4,
      "outputs": [
        {
          "output_type": "stream",
          "text": [
            "\n",
            "\n",
            "[!!]Indexing page: 1\n",
            "\n",
            "[%] Indexed 100 Images on Page 1.\n",
            "\n",
            "===============================================\n",
            "\n",
            "[%] Downloading Image #1 from https://upload.wikimedia.org/wikipedia/commons/thumb/5/56/Rail_replacement_bus_YN51KVG%2C_Lime_Street%2C_Liverpool.jpg/1200px-Rail_replacement_bus_YN51KVG%2C_Lime_Street%2C_Liverpool.jpg\n",
            "[%] File Downloaded !\n",
            "\n",
            "[%] Downloading Image #2 from https://upload.wikimedia.org/wikipedia/commons/thumb/4/47/Trolleybus4120.Harvard.agr.JPG/1200px-Trolleybus4120.Harvard.agr.JPG\n",
            "[%] File Downloaded !\n",
            "\n",
            "[%] Downloading Image #3 from https://upload.wikimedia.org/wikipedia/commons/thumb/4/4d/ICCE_First_Student_Wallkill_School_Bus.jpg/1200px-ICCE_First_Student_Wallkill_School_Bus.jpg\n",
            "[%] File Downloaded !\n",
            "\n",
            "[%] Downloading Image #4 from https://upload.wikimedia.org/wikipedia/commons/thumb/2/2b/Porcelani_bus_line_in_Tirana.jpg/1200px-Porcelani_bus_line_in_Tirana.jpg\n",
            "[Error]Invalid image, not saving https://upload.wikimedia.org/wikipedia/commons/thumb/2/2b/Porcelani_bus_line_in_Tirana.jpg/1200px-Porcelani_bus_line_in_Tirana.jpg\n",
            "\n",
            "[!] Issue getting: https://upload.wikimedia.org/wikipedia/commons/thumb/2/2b/Porcelani_bus_line_in_Tirana.jpg/1200px-Porcelani_bus_line_in_Tirana.jpg\n",
            "[!] Error:: No active exception to reraise\n",
            "[%] Downloading Image #4 from https://upload.wikimedia.org/wikipedia/commons/thumb/2/25/ADL-Enviro500MMC-KMB.JPG/1200px-ADL-Enviro500MMC-KMB.JPG\n",
            "[Error]Invalid image, not saving https://upload.wikimedia.org/wikipedia/commons/thumb/2/25/ADL-Enviro500MMC-KMB.JPG/1200px-ADL-Enviro500MMC-KMB.JPG\n",
            "\n",
            "[!] Issue getting: https://upload.wikimedia.org/wikipedia/commons/thumb/2/25/ADL-Enviro500MMC-KMB.JPG/1200px-ADL-Enviro500MMC-KMB.JPG\n",
            "[!] Error:: No active exception to reraise\n",
            "[%] Downloading Image #4 from https://upload.wikimedia.org/wikipedia/commons/thumb/2/27/Nwfb_euro_5.JPG/1920px-Nwfb_euro_5.JPG\n",
            "[%] File Downloaded !\n",
            "\n",
            "[%] Downloading Image #5 from https://upload.wikimedia.org/wikipedia/commons/thumb/9/9c/Tobus_B-R114_BRC-hybrid.jpg/1200px-Tobus_B-R114_BRC-hybrid.jpg\n",
            "[%] File Downloaded !\n",
            "\n",
            "[%] Downloading Image #6 from https://upload.wikimedia.org/wikipedia/commons/thumb/e/ea/Flatlands_Av_East_63a_-_Rockaway_Parkway.jpg/1200px-Flatlands_Av_East_63a_-_Rockaway_Parkway.jpg\n",
            "[Error]Invalid image, not saving https://upload.wikimedia.org/wikipedia/commons/thumb/e/ea/Flatlands_Av_East_63a_-_Rockaway_Parkway.jpg/1200px-Flatlands_Av_East_63a_-_Rockaway_Parkway.jpg\n",
            "\n",
            "[!] Issue getting: https://upload.wikimedia.org/wikipedia/commons/thumb/e/ea/Flatlands_Av_East_63a_-_Rockaway_Parkway.jpg/1200px-Flatlands_Av_East_63a_-_Rockaway_Parkway.jpg\n",
            "[!] Error:: No active exception to reraise\n",
            "[%] Downloading Image #6 from https://upload.wikimedia.org/wikipedia/commons/thumb/3/38/KeioDentetsuBus_C21226.jpg/1200px-KeioDentetsuBus_C21226.jpg\n",
            "[%] File Downloaded !\n",
            "\n",
            "[%] Downloading Image #7 from https://upload.wikimedia.org/wikipedia/commons/thumb/a/ac/Arriva_T6_nearside.JPG/1200px-Arriva_T6_nearside.JPG\n",
            "[Error]Invalid image, not saving https://upload.wikimedia.org/wikipedia/commons/thumb/a/ac/Arriva_T6_nearside.JPG/1200px-Arriva_T6_nearside.JPG\n",
            "\n",
            "[!] Issue getting: https://upload.wikimedia.org/wikipedia/commons/thumb/a/ac/Arriva_T6_nearside.JPG/1200px-Arriva_T6_nearside.JPG\n",
            "[!] Error:: No active exception to reraise\n",
            "[%] Downloading Image #7 from https://upload.wikimedia.org/wikipedia/commons/thumb/1/1a/Punchbowl_Bus_Co_(mo_693)_Austral_Pacific_bodied_Scania_L113CRL_at_Central_station.jpg/1920px-Punchbowl_Bus_Co_(mo_693)_Austral_Pacific_bodied_Scania_L113CRL_at_Central_station.jpg\n",
            "[Error]Invalid image, not saving https://upload.wikimedia.org/wikipedia/commons/thumb/1/1a/Punchbowl_Bus_Co_(mo_693)_Austral_Pacific_bodied_Scania_L113CRL_at_Central_station.jpg/1920px-Punchbowl_Bus_Co_(mo_693)_Austral_Pacific_bodied_Scania_L113CRL_at_Central_station.jpg\n",
            "\n",
            "[!] Issue getting: https://upload.wikimedia.org/wikipedia/commons/thumb/1/1a/Punchbowl_Bus_Co_(mo_693)_Austral_Pacific_bodied_Scania_L113CRL_at_Central_station.jpg/1920px-Punchbowl_Bus_Co_(mo_693)_Austral_Pacific_bodied_Scania_L113CRL_at_Central_station.jpg\n",
            "[!] Error:: No active exception to reraise\n",
            "[%] Downloading Image #7 from https://upload.wikimedia.org/wikipedia/commons/thumb/2/24/New_York_City_Transit_NovaBus_LFS_1254_M15_SBS.JPG/1200px-New_York_City_Transit_NovaBus_LFS_1254_M15_SBS.JPG\n",
            "[%] File Downloaded !\n",
            "\n",
            "[%] Downloading Image #8 from https://upload.wikimedia.org/wikipedia/commons/thumb/9/93/07682jfCamposanto_Highway_Roads_Market_Moncada_Tarlacfvf_11.JPG/1200px-07682jfCamposanto_Highway_Roads_Market_Moncada_Tarlacfvf_11.JPG\n",
            "[%] File Downloaded !\n",
            "\n",
            "[%] Downloading Image #9 from https://upload.wikimedia.org/wikipedia/commons/thumb/5/5d/W%C3%A4denswil_-_Bahnhof_-_Zimmerbergbus_2011-09-05_18-41-02.JPG/1200px-W%C3%A4denswil_-_Bahnhof_-_Zimmerbergbus_2011-09-05_18-41-02.JPG\n",
            "[%] File Downloaded !\n",
            "\n",
            "[%] Downloading Image #10 from https://i.ytimg.com/vi/1hV7T4x3n7s/maxresdefault.jpg\n",
            "[%] File Downloaded !\n",
            "\n",
            "[%] Downloading Image #11 from https://i.ytimg.com/vi/q1mmPcp9eM8/maxresdefault.jpg\n",
            "[%] File Downloaded !\n",
            "\n",
            "[%] Downloading Image #12 from https://upload.wikimedia.org/wikipedia/commons/thumb/1/1a/Go-Ahead_SG_Citaro_(SG1189X).jpg/1200px-Go-Ahead_SG_Citaro_(SG1189X).jpg\n",
            "[Error]Invalid image, not saving https://upload.wikimedia.org/wikipedia/commons/thumb/1/1a/Go-Ahead_SG_Citaro_(SG1189X).jpg/1200px-Go-Ahead_SG_Citaro_(SG1189X).jpg\n",
            "\n",
            "[!] Issue getting: https://upload.wikimedia.org/wikipedia/commons/thumb/1/1a/Go-Ahead_SG_Citaro_(SG1189X).jpg/1200px-Go-Ahead_SG_Citaro_(SG1189X).jpg\n",
            "[!] Error:: No active exception to reraise\n",
            "[%] Downloading Image #12 from https://upload.wikimedia.org/wikipedia/commons/thumb/9/92/Smith_Street_Fulton_Mall_td_%282018-07-07%29_10.jpg/1200px-Smith_Street_Fulton_Mall_td_%282018-07-07%29_10.jpg\n",
            "[Error]Invalid image, not saving https://upload.wikimedia.org/wikipedia/commons/thumb/9/92/Smith_Street_Fulton_Mall_td_%282018-07-07%29_10.jpg/1200px-Smith_Street_Fulton_Mall_td_%282018-07-07%29_10.jpg\n",
            "\n",
            "[!] Issue getting: https://upload.wikimedia.org/wikipedia/commons/thumb/9/92/Smith_Street_Fulton_Mall_td_%282018-07-07%29_10.jpg/1200px-Smith_Street_Fulton_Mall_td_%282018-07-07%29_10.jpg\n",
            "[!] Error:: No active exception to reraise\n",
            "[%] Downloading Image #12 from https://upload.wikimedia.org/wikipedia/commons/thumb/a/af/Hato_Bus_392_Selega_Hybrid_QQG-RU1ASBR.jpg/1200px-Hato_Bus_392_Selega_Hybrid_QQG-RU1ASBR.jpg\n",
            "[%] File Downloaded !\n",
            "\n",
            "[%] Downloading Image #13 from https://upload.wikimedia.org/wikipedia/commons/8/86/Eastern_Shuttle_(Stagecoach)_MCI_102DL3_51104.jpg\n",
            "[%] File Downloaded !\n",
            "\n",
            "[%] Downloading Image #14 from https://upload.wikimedia.org/wikipedia/commons/thumb/6/6e/MAN_NG_313_in_Szczecin.JPG/1200px-MAN_NG_313_in_Szczecin.JPG\n",
            "[Error]Invalid image, not saving https://upload.wikimedia.org/wikipedia/commons/thumb/6/6e/MAN_NG_313_in_Szczecin.JPG/1200px-MAN_NG_313_in_Szczecin.JPG\n",
            "\n",
            "[!] Issue getting: https://upload.wikimedia.org/wikipedia/commons/thumb/6/6e/MAN_NG_313_in_Szczecin.JPG/1200px-MAN_NG_313_in_Szczecin.JPG\n",
            "[!] Error:: No active exception to reraise\n",
            "[%] Downloading Image #14 from https://i.ytimg.com/vi/XBicb8Ga1Lk/maxresdefault.jpg\n",
            "[%] File Downloaded !\n",
            "\n",
            "[%] Downloading Image #15 from https://upload.wikimedia.org/wikipedia/commons/thumb/b/be/Black_Velvet_302.JPG/1200px-Black_Velvet_302.JPG\n",
            "[%] File Downloaded !\n",
            "\n",
            "[%] Downloading Image #16 from https://upload.wikimedia.org/wikipedia/commons/thumb/2/2f/Grey_Goose_bus_240.JPG/1200px-Grey_Goose_bus_240.JPG\n",
            "[%] File Downloaded !\n",
            "\n",
            "[%] Downloading Image #17 from https://upload.wikimedia.org/wikipedia/commons/thumb/6/68/Transperth_2015_Volgren_Optimus_bodied_Volvo_B7RLE_Transdev.jpg/1200px-Transperth_2015_Volgren_Optimus_bodied_Volvo_B7RLE_Transdev.jpg\n",
            "[Error]Invalid image, not saving https://upload.wikimedia.org/wikipedia/commons/thumb/6/68/Transperth_2015_Volgren_Optimus_bodied_Volvo_B7RLE_Transdev.jpg/1200px-Transperth_2015_Volgren_Optimus_bodied_Volvo_B7RLE_Transdev.jpg\n",
            "\n",
            "[!] Issue getting: https://upload.wikimedia.org/wikipedia/commons/thumb/6/68/Transperth_2015_Volgren_Optimus_bodied_Volvo_B7RLE_Transdev.jpg/1200px-Transperth_2015_Volgren_Optimus_bodied_Volvo_B7RLE_Transdev.jpg\n",
            "[!] Error:: No active exception to reraise\n",
            "[%] Downloading Image #17 from https://i.ytimg.com/vi/-bP1TgCXUrY/maxresdefault.jpg\n",
            "[%] File Downloaded !\n",
            "\n",
            "[%] Downloading Image #18 from https://upload.wikimedia.org/wikipedia/commons/thumb/f/fe/Brighton_and_Hove_Buses_%2819696802873%29.jpg/1200px-Brighton_and_Hove_Buses_%2819696802873%29.jpg\n",
            "[Error]Invalid image, not saving https://upload.wikimedia.org/wikipedia/commons/thumb/f/fe/Brighton_and_Hove_Buses_%2819696802873%29.jpg/1200px-Brighton_and_Hove_Buses_%2819696802873%29.jpg\n",
            "\n",
            "[!] Issue getting: https://upload.wikimedia.org/wikipedia/commons/thumb/f/fe/Brighton_and_Hove_Buses_%2819696802873%29.jpg/1200px-Brighton_and_Hove_Buses_%2819696802873%29.jpg\n",
            "[!] Error:: No active exception to reraise\n",
            "[%] Downloading Image #18 from https://upload.wikimedia.org/wikipedia/commons/thumb/1/14/O405G-Habit-SMRT.JPG/1920px-O405G-Habit-SMRT.JPG\n",
            "[%] File Downloaded !\n",
            "\n",
            "[%] Downloading Image #19 from https://upload.wikimedia.org/wikipedia/commons/thumb/6/60/Sydney_Buses_(mo_1687)_Custom_Coaches_'CB60'_bodied_Volvo_B12BLEA_at_Railway_Square.jpg/1200px-Sydney_Buses_(mo_1687)_Custom_Coaches_'CB60'_bodied_Volvo_B12BLEA_at_Railway_Square.jpg\n",
            "[%] File Downloaded !\n",
            "\n",
            "[%] Downloading Image #20 from https://upload.wikimedia.org/wikipedia/commons/thumb/2/2a/Volvo_B8RLEA_Optimus_TP3099.jpg/1200px-Volvo_B8RLEA_Optimus_TP3099.jpg\n",
            "[Error]Invalid image, not saving https://upload.wikimedia.org/wikipedia/commons/thumb/2/2a/Volvo_B8RLEA_Optimus_TP3099.jpg/1200px-Volvo_B8RLEA_Optimus_TP3099.jpg\n",
            "\n",
            "[!] Issue getting: https://upload.wikimedia.org/wikipedia/commons/thumb/2/2a/Volvo_B8RLEA_Optimus_TP3099.jpg/1200px-Volvo_B8RLEA_Optimus_TP3099.jpg\n",
            "[!] Error:: No active exception to reraise\n",
            "[%] Downloading Image #20 from https://upload.wikimedia.org/wikipedia/commons/0/06/East_London_18500.JPG\n",
            "[%] File Downloaded !\n",
            "\n",
            "[%] Downloading Image #21 from https://upload.wikimedia.org/wikipedia/commons/thumb/a/a6/London_Bus_route_55_Buses%2C_Clapton_Pond.jpg/1200px-London_Bus_route_55_Buses%2C_Clapton_Pond.jpg\n",
            "[%] File Downloaded !\n",
            "\n",
            "[%] Downloading Image #22 from http://i.ytimg.com/vi/e-ALKxHy-FM/maxresdefault.jpg\n",
            "[%] File Downloaded !\n",
            "\n",
            "[%] Downloading Image #23 from https://i.ytimg.com/vi/kdDgTDfo9HY/maxresdefault.jpg\n",
            "[%] File Downloaded !\n",
            "\n",
            "[%] Downloading Image #24 from https://upload.wikimedia.org/wikipedia/commons/3/3c/Pudong's_buses_in_Shanghai.jpg\n",
            "[%] File Downloaded !\n",
            "\n",
            "[%] Downloading Image #25 from https://upload.wikimedia.org/wikipedia/commons/thumb/f/ff/Public_Bus_Transportion_Tirana_2016.jpg/1200px-Public_Bus_Transportion_Tirana_2016.jpg\n",
            "[Error]Invalid image, not saving https://upload.wikimedia.org/wikipedia/commons/thumb/f/ff/Public_Bus_Transportion_Tirana_2016.jpg/1200px-Public_Bus_Transportion_Tirana_2016.jpg\n",
            "\n",
            "[!] Issue getting: https://upload.wikimedia.org/wikipedia/commons/thumb/f/ff/Public_Bus_Transportion_Tirana_2016.jpg/1200px-Public_Bus_Transportion_Tirana_2016.jpg\n",
            "[!] Error:: No active exception to reraise\n",
            "[%] Downloading Image #25 from https://i.ytimg.com/vi/h03FQqvHxRs/maxresdefault.jpg\n",
            "[%] File Downloaded !\n",
            "\n",
            "[%] Downloading Image #26 from https://upload.wikimedia.org/wikipedia/commons/thumb/d/db/DTC_AC_Bus.jpg/1200px-DTC_AC_Bus.jpg\n",
            "[Error]Invalid image, not saving https://upload.wikimedia.org/wikipedia/commons/thumb/d/db/DTC_AC_Bus.jpg/1200px-DTC_AC_Bus.jpg\n",
            "\n",
            "[!] Issue getting: https://upload.wikimedia.org/wikipedia/commons/thumb/d/db/DTC_AC_Bus.jpg/1200px-DTC_AC_Bus.jpg\n",
            "[!] Error:: No active exception to reraise\n",
            "[%] Downloading Image #26 from https://upload.wikimedia.org/wikipedia/commons/thumb/a/aa/West_Vancouver_Blue_Bus_922_clip.jpg/1200px-West_Vancouver_Blue_Bus_922_clip.jpg\n",
            "[%] File Downloaded !\n",
            "\n",
            "[%] Downloading Image #27 from https://upload.wikimedia.org/wikipedia/commons/thumb/7/73/Crown_School_bus_at_Meadowhall.jpg/1200px-Crown_School_bus_at_Meadowhall.jpg\n",
            "[%] File Downloaded !\n",
            "\n",
            "[%] Downloading Image #28 from https://upload.wikimedia.org/wikipedia/commons/thumb/d/d5/Hanoi_Bus_09.jpg/1200px-Hanoi_Bus_09.jpg\n",
            "[%] File Downloaded !\n",
            "\n",
            "[%] Downloading Image #29 from https://upload.wikimedia.org/wikipedia/commons/thumb/2/28/London_United_LT85_on_Route_9%2C_Charing_Cross.jpg/1200px-London_United_LT85_on_Route_9%2C_Charing_Cross.jpg\n",
            "[%] File Downloaded !\n",
            "\n",
            "[%] Downloading Image #30 from https://upload.wikimedia.org/wikipedia/commons/thumb/9/94/SBS_Transit_SG_B9TL_(SG5569G).jpg/1200px-SBS_Transit_SG_B9TL_(SG5569G).jpg\n",
            "[Error]Invalid image, not saving https://upload.wikimedia.org/wikipedia/commons/thumb/9/94/SBS_Transit_SG_B9TL_(SG5569G).jpg/1200px-SBS_Transit_SG_B9TL_(SG5569G).jpg\n",
            "\n",
            "[!] Issue getting: https://upload.wikimedia.org/wikipedia/commons/thumb/9/94/SBS_Transit_SG_B9TL_(SG5569G).jpg/1200px-SBS_Transit_SG_B9TL_(SG5569G).jpg\n",
            "[!] Error:: No active exception to reraise\n",
            "[%] Downloading Image #30 from https://upload.wikimedia.org/wikipedia/commons/thumb/8/8b/Arriva_London_bus_LT6_%28LT12_FHT%29%2C_route_38%2C_5_May_2013.jpg/1200px-Arriva_London_bus_LT6_%28LT12_FHT%29%2C_route_38%2C_5_May_2013.jpg\n",
            "[%] File Downloaded !\n",
            "\n",
            "[%] Downloading Image #31 from https://upload.wikimedia.org/wikipedia/commons/0/07/Arriva_London_South_bus_DLA318_%28Y518_UGC%29_2001_DAF_DB250_Transbus_ALX400%2C_Westminster_Bridge%2C_route_159%2C_13_May_2011_%28processed%29.jpg\n",
            "[%] File Downloaded !\n",
            "\n",
            "[%] Downloading Image #32 from https://upload.wikimedia.org/wikipedia/commons/thumb/f/f3/Dublin_Bus%2C_Volvo_B9TL_Alexander_Dennis_Enviro400_%2807-D-30001%29_%288203457462%29.jpg/1200px-Dublin_Bus%2C_Volvo_B9TL_Alexander_Dennis_Enviro400_%2807-D-30001%29_%288203457462%29.jpg\n",
            "[%] File Downloaded !\n",
            "\n",
            "[%] Downloading Image #33 from https://upload.wikimedia.org/wikipedia/commons/thumb/e/ea/VPvolvo7700.jpg/1200px-VPvolvo7700.jpg\n",
            "[%] File Downloaded !\n",
            "\n",
            "[%] Downloading Image #34 from https://upload.wikimedia.org/wikipedia/commons/thumb/e/ea/Toyota_Coaster_Mini_Bus_2015.jpg/1200px-Toyota_Coaster_Mini_Bus_2015.jpg\n",
            "[%] File Downloaded !\n",
            "\n",
            "[%] Downloading Image #35 from https://i.ytimg.com/vi/92iXp2NMai0/maxresdefault.jpg\n",
            "[%] File Downloaded !\n",
            "\n",
            "[%] Downloading Image #36 from https://i.ytimg.com/vi/VZul20yKpeo/maxresdefault.jpg\n",
            "[%] File Downloaded !\n",
            "\n",
            "[%] Downloading Image #37 from https://upload.wikimedia.org/wikipedia/commons/3/3d/Greyhound_Bus_6080.jpg\n",
            "[%] File Downloaded !\n",
            "\n",
            "[%] Downloading Image #38 from https://upload.wikimedia.org/wikipedia/commons/thumb/7/73/MTA_Bus_D60_5604_on_the_Q10_LTD.JPG/1200px-MTA_Bus_D60_5604_on_the_Q10_LTD.JPG\n",
            "[%] File Downloaded !\n",
            "\n",
            "[%] Downloading Image #39 from https://upload.wikimedia.org/wikipedia/commons/thumb/d/d1/Stagecoach_Oxfordshire_15831_on_Route_S3%2C_Oxford_Station_%2814950509944%29.jpg/1200px-Stagecoach_Oxfordshire_15831_on_Route_S3%2C_Oxford_Station_%2814950509944%29.jpg\n",
            "[Error]Invalid image, not saving https://upload.wikimedia.org/wikipedia/commons/thumb/d/d1/Stagecoach_Oxfordshire_15831_on_Route_S3%2C_Oxford_Station_%2814950509944%29.jpg/1200px-Stagecoach_Oxfordshire_15831_on_Route_S3%2C_Oxford_Station_%2814950509944%29.jpg\n",
            "\n",
            "[!] Issue getting: https://upload.wikimedia.org/wikipedia/commons/thumb/d/d1/Stagecoach_Oxfordshire_15831_on_Route_S3%2C_Oxford_Station_%2814950509944%29.jpg/1200px-Stagecoach_Oxfordshire_15831_on_Route_S3%2C_Oxford_Station_%2814950509944%29.jpg\n",
            "[!] Error:: No active exception to reraise\n",
            "[%] Downloading Image #39 from https://i.ytimg.com/vi/v-COyV917H8/maxresdefault.jpg\n",
            "[%] File Downloaded !\n",
            "\n",
            "[%] Downloading Image #40 from https://upload.wikimedia.org/wikipedia/commons/thumb/1/16/Bristol_VR_XDV609S.jpg/1200px-Bristol_VR_XDV609S.jpg\n",
            "[%] File Downloaded !\n",
            "\n",
            "[%] Downloading Image #41 from https://i.ytimg.com/vi/w5r6X-xxjL4/maxresdefault.jpg\n",
            "[%] File Downloaded !\n",
            "\n",
            "[%] Downloading Image #42 from https://upload.wikimedia.org/wikipedia/commons/thumb/2/28/Bluestar_1131_HF58_KCK.JPG/1200px-Bluestar_1131_HF58_KCK.JPG\n",
            "[%] File Downloaded !\n",
            "\n",
            "[%] Downloading Image #43 from https://i.ytimg.com/vi/el-jGGqMKt8/maxresdefault.jpg\n",
            "[%] File Downloaded !\n",
            "\n",
            "[%] Downloading Image #44 from https://i.ytimg.com/vi/Rv5DVtwII0c/maxresdefault.jpg\n",
            "[%] File Downloaded !\n",
            "\n",
            "[%] Downloading Image #45 from https://i.ytimg.com/vi/sKEUq52sQ_Y/maxresdefault.jpg\n",
            "[%] File Downloaded !\n",
            "\n",
            "[%] Downloading Image #46 from https://i.ytimg.com/vi/IReyahp1aAI/maxresdefault.jpg\n",
            "[%] File Downloaded !\n",
            "\n",
            "[%] Downloading Image #47 from https://upload.wikimedia.org/wikipedia/commons/f/f1/FBY749.jpg\n",
            "[%] File Downloaded !\n",
            "\n",
            "[%] Downloading Image #48 from https://upload.wikimedia.org/wikipedia/commons/thumb/f/f2/Flatlands_Av_Utica_Av_td_10.jpg/1200px-Flatlands_Av_Utica_Av_td_10.jpg\n",
            "[Error]Invalid image, not saving https://upload.wikimedia.org/wikipedia/commons/thumb/f/f2/Flatlands_Av_Utica_Av_td_10.jpg/1200px-Flatlands_Av_Utica_Av_td_10.jpg\n",
            "\n",
            "[!] Issue getting: https://upload.wikimedia.org/wikipedia/commons/thumb/f/f2/Flatlands_Av_Utica_Av_td_10.jpg/1200px-Flatlands_Av_Utica_Av_td_10.jpg\n",
            "[!] Error:: No active exception to reraise\n",
            "[%] Downloading Image #48 from https://i.ytimg.com/vi/W1yqDzaxeko/maxresdefault.jpg\n",
            "[%] File Downloaded !\n",
            "\n",
            "[%] Downloading Image #49 from https://upload.wikimedia.org/wikipedia/commons/thumb/8/86/Brusselsebus2.JPG/400px-Brusselsebus2.JPG\n",
            "[%] File Downloaded !\n",
            "\n",
            "[%] Downloading Image #50 from https://upload.wikimedia.org/wikipedia/commons/thumb/5/5e/Bogdan_A40162_bus.jpg/1200px-Bogdan_A40162_bus.jpg\n",
            "[%] File Downloaded !\n",
            "\n",
            "[%] Downloading Image #51 from https://i.ytimg.com/vi/E3PJeAWF1AQ/maxresdefault.jpg\n",
            "[%] File Downloaded !\n",
            "\n",
            "[%] Downloading Image #52 from https://i.ytimg.com/vi/BxDDtUtsodE/maxresdefault.jpg\n",
            "[%] File Downloaded !\n",
            "\n",
            "[%] Downloading Image #53 from https://upload.wikimedia.org/wikipedia/commons/thumb/e/ec/Transdev_Lancashire_United_1873_BD12TDZ_%288685499375%29.jpg/1200px-Transdev_Lancashire_United_1873_BD12TDZ_%288685499375%29.jpg\n",
            "[%] File Downloaded !\n",
            "\n",
            "[%] Downloading Image #54 from https://i.ytimg.com/vi/HFW4BkL3AEE/maxresdefault.jpg\n",
            "[%] File Downloaded !\n",
            "\n",
            "[%] Downloading Image #55 from https://i.ytimg.com/vi/XbPEamKB2XY/maxresdefault.jpg\n",
            "[%] File Downloaded !\n",
            "\n",
            "[%] Downloading Image #56 from https://i.ytimg.com/vi/ML0ur_YB-MQ/maxresdefault.jpg\n",
            "[%] File Downloaded !\n",
            "\n",
            "[%] Downloading Image #57 from https://upload.wikimedia.org/wikipedia/commons/thumb/0/0e/Alexander_Dennis_Enviro_200_operated_by_D%26G_Bus.jpg/1200px-Alexander_Dennis_Enviro_200_operated_by_D%26G_Bus.jpg\n",
            "[%] File Downloaded !\n",
            "\n",
            "[%] Downloading Image #58 from https://i.ytimg.com/vi/qrEKvlY_t5Y/maxresdefault.jpg\n",
            "[%] File Downloaded !\n",
            "\n",
            "[%] Downloading Image #59 from https://upload.wikimedia.org/wikipedia/commons/thumb/7/70/LT_464_%28LTZ_1464%29_Arriva_London_New_Routemaster_%2817304507064%29.jpg/1200px-LT_464_%28LTZ_1464%29_Arriva_London_New_Routemaster_%2817304507064%29.jpg\n",
            "[Error]Invalid image, not saving https://upload.wikimedia.org/wikipedia/commons/thumb/7/70/LT_464_%28LTZ_1464%29_Arriva_London_New_Routemaster_%2817304507064%29.jpg/1200px-LT_464_%28LTZ_1464%29_Arriva_London_New_Routemaster_%2817304507064%29.jpg\n",
            "\n",
            "[!] Issue getting: https://upload.wikimedia.org/wikipedia/commons/thumb/7/70/LT_464_%28LTZ_1464%29_Arriva_London_New_Routemaster_%2817304507064%29.jpg/1200px-LT_464_%28LTZ_1464%29_Arriva_London_New_Routemaster_%2817304507064%29.jpg\n",
            "[!] Error:: No active exception to reraise\n",
            "[%] Downloading Image #59 from https://upload.wikimedia.org/wikipedia/commons/thumb/8/86/Sullivan_Buses_WVL1.JPG/1200px-Sullivan_Buses_WVL1.JPG\n",
            "[%] File Downloaded !\n",
            "\n",
            "[%] Downloading Image #60 from https://i.ytimg.com/vi/HJbomGOb_Tg/maxresdefault.jpg\n",
            "[%] File Downloaded !\n",
            "\n",
            "[%] Downloading Image #61 from https://i.ytimg.com/vi/tgN6XnCOScE/maxresdefault.jpg\n",
            "[%] File Downloaded !\n",
            "\n",
            "[%] Downloading Image #62 from https://upload.wikimedia.org/wikipedia/commons/thumb/f/f8/2244ST.jpg/1200px-2244ST.jpg\n",
            "[%] File Downloaded !\n",
            "\n",
            "[%] Downloading Image #63 from https://upload.wikimedia.org/wikipedia/commons/thumb/7/72/Nara-Kotsu_ISUZU_ERUGA_QPG-LV234N3_783.JPG/1200px-Nara-Kotsu_ISUZU_ERUGA_QPG-LV234N3_783.JPG\n",
            "[%] File Downloaded !\n",
            "\n",
            "[%] Downloading Image #64 from https://i.ytimg.com/vi/gqzlCJK5wTQ/maxresdefault.jpg\n",
            "[%] File Downloaded !\n",
            "\n",
            "[%] Downloading Image #65 from https://upload.wikimedia.org/wikipedia/commons/thumb/a/a5/London_Bus_Services_bus_(X173_FBB)%2C_2013_Cobham_bus_rally_(2).jpg/1200px-London_Bus_Services_bus_(X173_FBB)%2C_2013_Cobham_bus_rally_(2).jpg\n",
            "[%] File Downloaded !\n",
            "\n",
            "[%] Downloading Image #66 from https://upload.wikimedia.org/wikipedia/commons/thumb/c/cb/Broadstone_July_2008%2C_coaches_awaiting_wash_and_fuel_-_Flickr_-_D464-Darren_Hall.jpg/1920px-Broadstone_July_2008%2C_coaches_awaiting_wash_and_fuel_-_Flickr_-_D464-Darren_Hall.jpg\n",
            "[%] File Downloaded !\n",
            "\n",
            "[%] Downloading Image #67 from https://i.ytimg.com/vi/CFlBtMD2Qis/maxresdefault.jpg\n",
            "[%] File Downloaded !\n",
            "\n",
            "[%] Downloading Image #68 from https://upload.wikimedia.org/wikipedia/commons/thumb/4/44/Preston_Bus%2C_Rotala_40608_PO62LNF_%288857293077%29.jpg/1200px-Preston_Bus%2C_Rotala_40608_PO62LNF_%288857293077%29.jpg\n",
            "[%] File Downloaded !\n",
            "\n",
            "[%] Downloading Image #69 from https://upload.wikimedia.org/wikipedia/commons/thumb/8/82/Ikarus_415_022_Partyzantow.JPG/1200px-Ikarus_415_022_Partyzantow.JPG\n",
            "[%] File Downloaded !\n",
            "\n",
            "[%] Downloading Image #70 from https://upload.wikimedia.org/wikipedia/commons/thumb/8/8b/DLA304.JPG/1200px-DLA304.JPG\n",
            "[%] File Downloaded !\n",
            "\n",
            "[%] Downloading Image #71 from https://upload.wikimedia.org/wikipedia/commons/5/5b/Coach_USA_MCI.jpg\n",
            "[%] File Downloaded !\n",
            "\n",
            "[%] Downloading Image #72 from https://upload.wikimedia.org/wikipedia/commons/thumb/2/2d/Elevated_Transit_Glaval_Synergy_bus_at_Provo_Intermodal_Center.JPG/1200px-Elevated_Transit_Glaval_Synergy_bus_at_Provo_Intermodal_Center.JPG\n",
            "[%] File Downloaded !\n",
            "\n",
            "[%] Downloading Image #73 from https://upload.wikimedia.org/wikipedia/commons/thumb/6/68/Gillig_Phantom_School_Bus_LAUSD.jpg/1200px-Gillig_Phantom_School_Bus_LAUSD.jpg\n",
            "[%] File Downloaded !\n",
            "\n",
            "[%] Downloading Image #74 from https://upload.wikimedia.org/wikipedia/commons/thumb/d/d5/Stagecoach_East_London_bus_19000_\\\n",
            "[!] Issue getting: https://upload.wikimedia.org/wikipedia/commons/thumb/d/d5/Stagecoach_East_London_bus_19000_\\\n",
            "[!] Error:: HTTP Error 400: Bad Request\n",
            "[%] Downloading Image #74 from https://upload.wikimedia.org/wikipedia/commons/thumb/6/67/NationalBus-newlivery.jpg/1200px-NationalBus-newlivery.jpg\n",
            "[%] File Downloaded !\n",
            "\n",
            "[%] Downloading Image #75 from https://i.ytimg.com/vi/5FkblxHJKVY/hqdefault.jpg\n",
            "[%] File Downloaded !\n",
            "\n",
            "[%] Downloading Image #76 from https://i.ytimg.com/vi/Hyy_wb7GxkM/maxresdefault.jpg\n",
            "[%] File Downloaded !\n",
            "\n",
            "[%] Downloading Image #77 from https://upload.wikimedia.org/wikipedia/commons/thumb/3/3d/ACTION_BUS_488_City.JPG/1200px-ACTION_BUS_488_City.JPG\n",
            "[%] File Downloaded !\n",
            "\n",
            "[%] Downloading Image #78 from https://upload.wikimedia.org/wikipedia/commons/8/8b/MTA_Bus_Orion_7_3699.jpg\n",
            "[%] File Downloaded !\n",
            "\n",
            "[%] Downloading Image #79 from https://www.gannett-cdn.com/-mm-/3d8a996800c54628744d73c15023532aefbd9cef/c=108-0-2172-1161/local/-/media/USATODAY/USATODAY/2014/07/09/1404919594000-XXX-greyhound-bus031.jpg?width=3200&amp;height=1680&amp;fit=crop\n",
            "[%] File Downloaded !\n",
            "\n",
            "[%] Downloading Image #80 from https://upload.wikimedia.org/wikipedia/commons/thumb/d/d1/SMBBB3876.jpg/1200px-SMBBB3876.jpg\n",
            "[%] File Downloaded !\n",
            "\n",
            "[%] Downloading Image #81 from https://upload.wikimedia.org/wikipedia/commons/thumb/c/c8/Bus_of_Student_Agency_2.jpg/1200px-Bus_of_Student_Agency_2.jpg\n",
            "[%] File Downloaded !\n",
            "\n",
            "[%] Downloading Image #82 from https://upload.wikimedia.org/wikipedia/commons/thumb/e/e5/%E5%8F%B0%E4%B8%AD%E5%B8%82%E5%85%AC%E8%BB%8A013-FV.jpg/1200px-%E5%8F%B0%E4%B8%AD%E5%B8%82%E5%85%AC%E8%BB%8A013-FV.jpg\n",
            "[%] File Downloaded !\n",
            "\n",
            "\n",
            "\n",
            "[!!]Indexing page: 2\n",
            "\n",
            "[%] Indexed 35 Images on Page 2.\n",
            "\n",
            "===============================================\n",
            "\n",
            "[%] Downloading Image #83 from https://upload.wikimedia.org/wikipedia/commons/thumb/5/56/Rail_replacement_bus_YN51KVG%2C_Lime_Street%2C_Liverpool.jpg/1200px-Rail_replacement_bus_YN51KVG%2C_Lime_Street%2C_Liverpool.jpg\n",
            "[%] File Downloaded !\n",
            "\n",
            "[%] Downloading Image #84 from https://upload.wikimedia.org/wikipedia/commons/thumb/4/47/Trolleybus4120.Harvard.agr.JPG/1200px-Trolleybus4120.Harvard.agr.JPG\n",
            "[%] File Downloaded !\n",
            "\n",
            "[%] Downloading Image #85 from https://upload.wikimedia.org/wikipedia/commons/thumb/4/4d/ICCE_First_Student_Wallkill_School_Bus.jpg/1200px-ICCE_First_Student_Wallkill_School_Bus.jpg\n",
            "[%] File Downloaded !\n",
            "\n",
            "[%] Downloading Image #86 from https://upload.wikimedia.org/wikipedia/commons/thumb/2/2b/Porcelani_bus_line_in_Tirana.jpg/1200px-Porcelani_bus_line_in_Tirana.jpg\n",
            "[Error]Invalid image, not saving https://upload.wikimedia.org/wikipedia/commons/thumb/2/2b/Porcelani_bus_line_in_Tirana.jpg/1200px-Porcelani_bus_line_in_Tirana.jpg\n",
            "\n",
            "[!] Issue getting: https://upload.wikimedia.org/wikipedia/commons/thumb/2/2b/Porcelani_bus_line_in_Tirana.jpg/1200px-Porcelani_bus_line_in_Tirana.jpg\n",
            "[!] Error:: No active exception to reraise\n",
            "[%] Downloading Image #86 from https://upload.wikimedia.org/wikipedia/commons/thumb/2/25/ADL-Enviro500MMC-KMB.JPG/1200px-ADL-Enviro500MMC-KMB.JPG\n",
            "[Error]Invalid image, not saving https://upload.wikimedia.org/wikipedia/commons/thumb/2/25/ADL-Enviro500MMC-KMB.JPG/1200px-ADL-Enviro500MMC-KMB.JPG\n",
            "\n",
            "[!] Issue getting: https://upload.wikimedia.org/wikipedia/commons/thumb/2/25/ADL-Enviro500MMC-KMB.JPG/1200px-ADL-Enviro500MMC-KMB.JPG\n",
            "[!] Error:: No active exception to reraise\n",
            "[%] Downloading Image #86 from https://upload.wikimedia.org/wikipedia/commons/thumb/2/27/Nwfb_euro_5.JPG/1920px-Nwfb_euro_5.JPG\n",
            "[%] File Downloaded !\n",
            "\n",
            "[%] Downloading Image #87 from https://upload.wikimedia.org/wikipedia/commons/thumb/9/9c/Tobus_B-R114_BRC-hybrid.jpg/1200px-Tobus_B-R114_BRC-hybrid.jpg\n",
            "[%] File Downloaded !\n",
            "\n",
            "[%] Downloading Image #88 from https://upload.wikimedia.org/wikipedia/commons/thumb/e/ea/Flatlands_Av_East_63a_-_Rockaway_Parkway.jpg/1200px-Flatlands_Av_East_63a_-_Rockaway_Parkway.jpg\n",
            "[Error]Invalid image, not saving https://upload.wikimedia.org/wikipedia/commons/thumb/e/ea/Flatlands_Av_East_63a_-_Rockaway_Parkway.jpg/1200px-Flatlands_Av_East_63a_-_Rockaway_Parkway.jpg\n",
            "\n",
            "[!] Issue getting: https://upload.wikimedia.org/wikipedia/commons/thumb/e/ea/Flatlands_Av_East_63a_-_Rockaway_Parkway.jpg/1200px-Flatlands_Av_East_63a_-_Rockaway_Parkway.jpg\n",
            "[!] Error:: No active exception to reraise\n",
            "[%] Downloading Image #88 from https://upload.wikimedia.org/wikipedia/commons/thumb/3/38/KeioDentetsuBus_C21226.jpg/1200px-KeioDentetsuBus_C21226.jpg\n",
            "[%] File Downloaded !\n",
            "\n",
            "[%] Downloading Image #89 from https://upload.wikimedia.org/wikipedia/commons/thumb/a/ac/Arriva_T6_nearside.JPG/1200px-Arriva_T6_nearside.JPG\n",
            "[Error]Invalid image, not saving https://upload.wikimedia.org/wikipedia/commons/thumb/a/ac/Arriva_T6_nearside.JPG/1200px-Arriva_T6_nearside.JPG\n",
            "\n",
            "[!] Issue getting: https://upload.wikimedia.org/wikipedia/commons/thumb/a/ac/Arriva_T6_nearside.JPG/1200px-Arriva_T6_nearside.JPG\n",
            "[!] Error:: No active exception to reraise\n",
            "[%] Downloading Image #89 from https://upload.wikimedia.org/wikipedia/commons/thumb/1/1a/Punchbowl_Bus_Co_(mo_693)_Austral_Pacific_bodied_Scania_L113CRL_at_Central_station.jpg/1920px-Punchbowl_Bus_Co_(mo_693)_Austral_Pacific_bodied_Scania_L113CRL_at_Central_station.jpg\n",
            "[Error]Invalid image, not saving https://upload.wikimedia.org/wikipedia/commons/thumb/1/1a/Punchbowl_Bus_Co_(mo_693)_Austral_Pacific_bodied_Scania_L113CRL_at_Central_station.jpg/1920px-Punchbowl_Bus_Co_(mo_693)_Austral_Pacific_bodied_Scania_L113CRL_at_Central_station.jpg\n",
            "\n",
            "[!] Issue getting: https://upload.wikimedia.org/wikipedia/commons/thumb/1/1a/Punchbowl_Bus_Co_(mo_693)_Austral_Pacific_bodied_Scania_L113CRL_at_Central_station.jpg/1920px-Punchbowl_Bus_Co_(mo_693)_Austral_Pacific_bodied_Scania_L113CRL_at_Central_station.jpg\n",
            "[!] Error:: No active exception to reraise\n",
            "[%] Downloading Image #89 from https://upload.wikimedia.org/wikipedia/commons/thumb/2/24/New_York_City_Transit_NovaBus_LFS_1254_M15_SBS.JPG/1200px-New_York_City_Transit_NovaBus_LFS_1254_M15_SBS.JPG\n",
            "[%] File Downloaded !\n",
            "\n",
            "[%] Downloading Image #90 from https://upload.wikimedia.org/wikipedia/commons/thumb/9/93/07682jfCamposanto_Highway_Roads_Market_Moncada_Tarlacfvf_11.JPG/1200px-07682jfCamposanto_Highway_Roads_Market_Moncada_Tarlacfvf_11.JPG\n",
            "[%] File Downloaded !\n",
            "\n",
            "[%] Downloading Image #91 from https://upload.wikimedia.org/wikipedia/commons/thumb/5/5d/W%C3%A4denswil_-_Bahnhof_-_Zimmerbergbus_2011-09-05_18-41-02.JPG/1200px-W%C3%A4denswil_-_Bahnhof_-_Zimmerbergbus_2011-09-05_18-41-02.JPG\n",
            "[%] File Downloaded !\n",
            "\n",
            "[%] Downloading Image #92 from https://i.ytimg.com/vi/1hV7T4x3n7s/maxresdefault.jpg\n",
            "[%] File Downloaded !\n",
            "\n",
            "[%] Downloading Image #93 from https://i.ytimg.com/vi/q1mmPcp9eM8/maxresdefault.jpg\n",
            "[%] File Downloaded !\n",
            "\n",
            "[%] Downloading Image #94 from https://upload.wikimedia.org/wikipedia/commons/thumb/1/1a/Go-Ahead_SG_Citaro_(SG1189X).jpg/1200px-Go-Ahead_SG_Citaro_(SG1189X).jpg\n",
            "[Error]Invalid image, not saving https://upload.wikimedia.org/wikipedia/commons/thumb/1/1a/Go-Ahead_SG_Citaro_(SG1189X).jpg/1200px-Go-Ahead_SG_Citaro_(SG1189X).jpg\n",
            "\n",
            "[!] Issue getting: https://upload.wikimedia.org/wikipedia/commons/thumb/1/1a/Go-Ahead_SG_Citaro_(SG1189X).jpg/1200px-Go-Ahead_SG_Citaro_(SG1189X).jpg\n",
            "[!] Error:: No active exception to reraise\n",
            "[%] Downloading Image #94 from https://upload.wikimedia.org/wikipedia/commons/thumb/9/92/Smith_Street_Fulton_Mall_td_%282018-07-07%29_10.jpg/1200px-Smith_Street_Fulton_Mall_td_%282018-07-07%29_10.jpg\n",
            "[Error]Invalid image, not saving https://upload.wikimedia.org/wikipedia/commons/thumb/9/92/Smith_Street_Fulton_Mall_td_%282018-07-07%29_10.jpg/1200px-Smith_Street_Fulton_Mall_td_%282018-07-07%29_10.jpg\n",
            "\n",
            "[!] Issue getting: https://upload.wikimedia.org/wikipedia/commons/thumb/9/92/Smith_Street_Fulton_Mall_td_%282018-07-07%29_10.jpg/1200px-Smith_Street_Fulton_Mall_td_%282018-07-07%29_10.jpg\n",
            "[!] Error:: No active exception to reraise\n",
            "[%] Downloading Image #94 from https://upload.wikimedia.org/wikipedia/commons/thumb/a/af/Hato_Bus_392_Selega_Hybrid_QQG-RU1ASBR.jpg/1200px-Hato_Bus_392_Selega_Hybrid_QQG-RU1ASBR.jpg\n",
            "[%] File Downloaded !\n",
            "\n",
            "[%] Downloading Image #95 from https://upload.wikimedia.org/wikipedia/commons/8/86/Eastern_Shuttle_(Stagecoach)_MCI_102DL3_51104.jpg\n",
            "[%] File Downloaded !\n",
            "\n",
            "[%] Downloading Image #96 from https://upload.wikimedia.org/wikipedia/commons/thumb/6/6e/MAN_NG_313_in_Szczecin.JPG/1200px-MAN_NG_313_in_Szczecin.JPG\n",
            "[Error]Invalid image, not saving https://upload.wikimedia.org/wikipedia/commons/thumb/6/6e/MAN_NG_313_in_Szczecin.JPG/1200px-MAN_NG_313_in_Szczecin.JPG\n",
            "\n",
            "[!] Issue getting: https://upload.wikimedia.org/wikipedia/commons/thumb/6/6e/MAN_NG_313_in_Szczecin.JPG/1200px-MAN_NG_313_in_Szczecin.JPG\n",
            "[!] Error:: No active exception to reraise\n",
            "[%] Downloading Image #96 from https://i.ytimg.com/vi/XBicb8Ga1Lk/maxresdefault.jpg\n",
            "[%] File Downloaded !\n",
            "\n",
            "[%] Downloading Image #97 from https://upload.wikimedia.org/wikipedia/commons/thumb/b/be/Black_Velvet_302.JPG/1200px-Black_Velvet_302.JPG\n",
            "[%] File Downloaded !\n",
            "\n",
            "[%] Downloading Image #98 from https://upload.wikimedia.org/wikipedia/commons/thumb/2/2f/Grey_Goose_bus_240.JPG/1200px-Grey_Goose_bus_240.JPG\n",
            "[%] File Downloaded !\n",
            "\n",
            "[%] Downloading Image #99 from https://upload.wikimedia.org/wikipedia/commons/thumb/6/68/Transperth_2015_Volgren_Optimus_bodied_Volvo_B7RLE_Transdev.jpg/1200px-Transperth_2015_Volgren_Optimus_bodied_Volvo_B7RLE_Transdev.jpg\n",
            "[Error]Invalid image, not saving https://upload.wikimedia.org/wikipedia/commons/thumb/6/68/Transperth_2015_Volgren_Optimus_bodied_Volvo_B7RLE_Transdev.jpg/1200px-Transperth_2015_Volgren_Optimus_bodied_Volvo_B7RLE_Transdev.jpg\n",
            "\n",
            "[!] Issue getting: https://upload.wikimedia.org/wikipedia/commons/thumb/6/68/Transperth_2015_Volgren_Optimus_bodied_Volvo_B7RLE_Transdev.jpg/1200px-Transperth_2015_Volgren_Optimus_bodied_Volvo_B7RLE_Transdev.jpg\n",
            "[!] Error:: No active exception to reraise\n",
            "[%] Downloading Image #99 from https://i.ytimg.com/vi/-bP1TgCXUrY/maxresdefault.jpg\n",
            "[%] File Downloaded !\n",
            "\n",
            "[%] Downloading Image #100 from https://upload.wikimedia.org/wikipedia/commons/thumb/f/fe/Brighton_and_Hove_Buses_%2819696802873%29.jpg/1200px-Brighton_and_Hove_Buses_%2819696802873%29.jpg\n",
            "[Error]Invalid image, not saving https://upload.wikimedia.org/wikipedia/commons/thumb/f/fe/Brighton_and_Hove_Buses_%2819696802873%29.jpg/1200px-Brighton_and_Hove_Buses_%2819696802873%29.jpg\n",
            "\n",
            "[!] Issue getting: https://upload.wikimedia.org/wikipedia/commons/thumb/f/fe/Brighton_and_Hove_Buses_%2819696802873%29.jpg/1200px-Brighton_and_Hove_Buses_%2819696802873%29.jpg\n",
            "[!] Error:: No active exception to reraise\n",
            "[%] Downloading Image #100 from https://upload.wikimedia.org/wikipedia/commons/thumb/1/14/O405G-Habit-SMRT.JPG/1920px-O405G-Habit-SMRT.JPG\n",
            "[%] File Downloaded !\n",
            "\n",
            "\n",
            "\n",
            "[%] Done. Downloaded 100 images.\n",
            "\n",
            "===============================================\n",
            "\n"
          ],
          "name": "stdout"
        }
      ]
    },
    {
      "cell_type": "code",
      "metadata": {
        "id": "GTv6pdGvF0g7",
        "colab_type": "code",
        "colab": {
          "base_uri": "https://localhost:8080/",
          "height": 287
        },
        "outputId": "63abf031-8f33-4ce9-c2ed-bfd9931d06e3"
      },
      "source": [
        "path = '/content/drive/My Drive/images/bus/Image_1.jpg'\n",
        "import cv2\n",
        "import matplotlib.pyplot as plt\n",
        "\n",
        "i = cv2.imread(path)\n",
        "i = cv2.cvtColor(i,cv2.COLOR_BGR2RGB)\n",
        "plt.imshow(i)"
      ],
      "execution_count": 6,
      "outputs": [
        {
          "output_type": "execute_result",
          "data": {
            "text/plain": [
              "<matplotlib.image.AxesImage at 0x7f1e7836d278>"
            ]
          },
          "metadata": {
            "tags": []
          },
          "execution_count": 6
        },
        {
          "output_type": "display_data",
          "data": {
            "image/png": "[encoded data removed]",
            "text/plain": [
              "<Figure size 432x288 with 1 Axes>"
            ]
          },
          "metadata": {
            "tags": [],
            "needs_background": "light"
          }
        }
      ]
    },
    {
      "cell_type": "code",
      "metadata": {
        "id": "RtFNs7kRGWbJ",
        "colab_type": "code",
        "colab": {
          "base_uri": "https://localhost:8080/",
          "height": 1000
        },
        "outputId": "c8e8958f-e493-4061-fa31-d423fb1fe3c8"
      },
      "source": [
        "downloader.download(\"car\",limit = 100, output_dir = 'images')"
      ],
      "execution_count": 7,
      "outputs": [
        {
          "output_type": "stream",
          "text": [
            "\n",
            "\n",
            "[!!]Indexing page: 1\n",
            "\n",
            "[%] Indexed 100 Images on Page 1.\n",
            "\n",
            "===============================================\n",
            "\n",
            "[%] Downloading Image #1 from https://i.ytimg.com/vi/TObBn68uRSA/maxresdefault.jpg\n",
            "[%] File Downloaded !\n",
            "\n",
            "[%] Downloading Image #2 from https://i.ytimg.com/vi/uFf1j4c70s8/maxresdefault.jpg\n",
            "[%] File Downloaded !\n",
            "\n",
            "[%] Downloading Image #3 from https://i.ytimg.com/vi/moFQhZ0_-TU/maxresdefault.jpg\n",
            "[%] File Downloaded !\n",
            "\n",
            "[%] Downloading Image #4 from https://www.topgear.com/sites/default/files/styles/16x9_1280w/public/images/gallery-migration/2015-06/5289C724-F9DB-4108-83FE-421AB36AC3E1.jpg?itok=zexfafqi\n",
            "[!] Issue getting: https://www.topgear.com/sites/default/files/styles/16x9_1280w/public/images/gallery-migration/2015-06/5289C724-F9DB-4108-83FE-421AB36AC3E1.jpg?itok=zexfafqi\n",
            "[!] Error:: HTTP Error 403: Forbidden\n",
            "[%] Downloading Image #4 from https://www.trbimg.com/img-57c049f1/turbine/ct-history-worlds-fastest-cars-under-200000-20160825\n",
            "[%] File Downloaded !\n",
            "\n",
            "[%] Downloading Image #5 from https://i.ytimg.com/vi/kEZhvxOmtD8/maxresdefault.jpg\n",
            "[%] File Downloaded !\n",
            "\n",
            "[%] Downloading Image #6 from https://i.ytimg.com/vi/4MtzH6Xg0gc/maxresdefault.jpg\n",
            "[%] File Downloaded !\n",
            "\n",
            "[%] Downloading Image #7 from https://i.ytimg.com/vi/TzcS7Mcq2oA/maxresdefault.jpg\n",
            "[%] File Downloaded !\n",
            "\n",
            "[%] Downloading Image #8 from https://i.ytimg.com/vi/fVIbe8On3aA/hqdefault.jpg\n",
            "[%] File Downloaded !\n",
            "\n",
            "[%] Downloading Image #9 from https://i.ytimg.com/vi/S5JhDRHmDDE/maxresdefault.jpg\n",
            "[%] File Downloaded !\n",
            "\n",
            "[%] Downloading Image #10 from https://i.ytimg.com/vi/F8wCg5p64Rw/maxresdefault.jpg\n",
            "[%] File Downloaded !\n",
            "\n",
            "[%] Downloading Image #11 from https://i.ytimg.com/vi/pBYTnlP4yYs/maxresdefault.jpg\n",
            "[%] File Downloaded !\n",
            "\n",
            "[%] Downloading Image #12 from https://i.ytimg.com/vi/OMpXwDiQjeI/maxresdefault.jpg\n",
            "[%] File Downloaded !\n",
            "\n",
            "[%] Downloading Image #13 from https://i.ytimg.com/vi/YtOhsBFkUq0/maxresdefault.jpg\n",
            "[%] File Downloaded !\n",
            "\n",
            "[%] Downloading Image #14 from https://i.ytimg.com/vi/WIz99wGkYqI/maxresdefault.jpg\n",
            "[%] File Downloaded !\n",
            "\n",
            "[%] Downloading Image #15 from https://i.ytimg.com/vi/W2rCxPH3GK8/maxresdefault.jpg\n",
            "[%] File Downloaded !\n",
            "\n",
            "[%] Downloading Image #16 from https://i.ytimg.com/vi/Y4d1ozlN_Z8/hqdefault.jpg\n",
            "[%] File Downloaded !\n",
            "\n",
            "[%] Downloading Image #17 from https://i.ytimg.com/vi/QFY9eqFOSQo/maxresdefault.jpg\n",
            "[%] File Downloaded !\n",
            "\n",
            "[%] Downloading Image #18 from https://i.ytimg.com/vi/FSzCsfTyPao/maxresdefault.jpg\n",
            "[%] File Downloaded !\n",
            "\n",
            "[%] Downloading Image #19 from https://i.ytimg.com/vi/bvFwIlCeGbE/maxresdefault.jpg\n",
            "[%] File Downloaded !\n",
            "\n",
            "[%] Downloading Image #20 from http://4.bp.blogspot.com/-0FXKhhMfrBk/TyLToXSgmCI/AAAAAAAAAiw/ezNxXFiNn1s/s1600/LexusLF-AConceptsuperCar-913987.jpeg\n",
            "[%] File Downloaded !\n",
            "\n",
            "[%] Downloading Image #21 from https://i.ytimg.com/vi/Xxa-NlBqzxs/maxresdefault.jpg\n",
            "[%] File Downloaded !\n",
            "\n",
            "[%] Downloading Image #22 from https://i.ytimg.com/vi/DRu-BC9pqWw/maxresdefault.jpg\n",
            "[%] File Downloaded !\n",
            "\n",
            "[%] Downloading Image #23 from https://i.ytimg.com/vi/MYYX_FfxTP0/maxresdefault.jpg\n",
            "[%] File Downloaded !\n",
            "\n",
            "[%] Downloading Image #24 from https://i.ytimg.com/vi/jywoXlNYrWo/maxresdefault.jpg\n",
            "[%] File Downloaded !\n",
            "\n",
            "[%] Downloading Image #25 from https://i.ytimg.com/vi/tYGg1fIfuOY/maxresdefault.jpg\n",
            "[%] File Downloaded !\n",
            "\n",
            "[%] Downloading Image #26 from https://i.ytimg.com/vi/d2Gh1h1xal4/maxresdefault.jpg\n",
            "[%] File Downloaded !\n",
            "\n",
            "[%] Downloading Image #27 from https://i.ytimg.com/vi/vb5XzAvB2S8/maxresdefault.jpg\n",
            "[%] File Downloaded !\n",
            "\n",
            "[%] Downloading Image #28 from https://i.ytimg.com/vi/tiz7nfftZiw/maxresdefault.jpg\n",
            "[%] File Downloaded !\n",
            "\n",
            "[%] Downloading Image #29 from https://i.ytimg.com/vi/ghPalAMIQgI/hqdefault.jpg\n",
            "[%] File Downloaded !\n",
            "\n",
            "[%] Downloading Image #30 from https://i.ytimg.com/vi/DowLiE_lmhc/maxresdefault.jpg\n",
            "[%] File Downloaded !\n",
            "\n",
            "[%] Downloading Image #31 from https://i.ytimg.com/vi/9GQbOminjmc/maxresdefault.jpg\n",
            "[%] File Downloaded !\n",
            "\n",
            "[%] Downloading Image #32 from https://i.ytimg.com/vi/6p7I5uP5BEA/maxresdefault.jpg\n",
            "[%] File Downloaded !\n",
            "\n",
            "[%] Downloading Image #33 from https://i.ytimg.com/vi/co0JK84JvGM/maxresdefault.jpg\n",
            "[%] File Downloaded !\n",
            "\n",
            "[%] Downloading Image #34 from https://i.ytimg.com/vi/v_tPCgGaEWc/maxresdefault.jpg\n",
            "[%] File Downloaded !\n",
            "\n",
            "[%] Downloading Image #35 from https://i.ytimg.com/vi/L42wRHgYY3A/maxresdefault.jpg\n",
            "[%] File Downloaded !\n",
            "\n",
            "[%] Downloading Image #36 from http://2.bp.blogspot.com/_9OnJLQNhyQo/TTwaEEhiqhI/AAAAAAAAAEs/ros98f2e0cE/s1600/lfa_wall_1024_ext3.jpg\n",
            "[%] File Downloaded !\n",
            "\n",
            "[%] Downloading Image #37 from https://i.ytimg.com/vi/41hShI1Xfas/maxresdefault.jpg\n",
            "[%] File Downloaded !\n",
            "\n",
            "[%] Downloading Image #38 from https://i.ytimg.com/vi/6Z5E4wCIfuM/maxresdefault.jpg\n",
            "[%] File Downloaded !\n",
            "\n",
            "[%] Downloading Image #39 from https://i.ytimg.com/vi/sL_xaatlXvA/hqdefault.jpg\n",
            "[%] File Downloaded !\n",
            "\n",
            "[%] Downloading Image #40 from https://i.ytimg.com/vi/SqCx3iWvwts/maxresdefault.jpg\n",
            "[%] File Downloaded !\n",
            "\n",
            "[%] Downloading Image #41 from https://i.ytimg.com/vi/aQKkxYbwwUQ/maxresdefault.jpg\n",
            "[%] File Downloaded !\n",
            "\n",
            "[%] Downloading Image #42 from https://i.ytimg.com/vi/xacNiA-IZTE/maxresdefault.jpg\n",
            "[%] File Downloaded !\n",
            "\n",
            "[%] Downloading Image #43 from https://i.ytimg.com/vi/J697nQ3HgV4/maxresdefault.jpg\n",
            "[%] File Downloaded !\n",
            "\n",
            "[%] Downloading Image #44 from https://i.ytimg.com/vi/OvRCA9Xdv_M/hqdefault.jpg\n",
            "[%] File Downloaded !\n",
            "\n",
            "[%] Downloading Image #45 from http://ww1.prweb.com/prfiles/2014/02/28/11630905/darwin_gunmetal_reg_large_white.jpg\n",
            "[%] File Downloaded !\n",
            "\n",
            "[%] Downloading Image #46 from https://i.ytimg.com/vi/aTye6ZmIjEc/maxresdefault.jpg\n",
            "[%] File Downloaded !\n",
            "\n",
            "[%] Downloading Image #47 from https://upload.wikimedia.org/wikipedia/commons/thumb/e/eb/Silverstone_2010_-_Safety_Cars.jpg/1200px-Silverstone_2010_-_Safety_Cars.jpg\n",
            "[%] File Downloaded !\n",
            "\n",
            "[%] Downloading Image #48 from https://i.ytimg.com/vi/Gaz8_6Ee_wM/maxresdefault.jpg\n",
            "[%] File Downloaded !\n",
            "\n",
            "[%] Downloading Image #49 from https://upload.wikimedia.org/wikipedia/commons/thumb/f/fd/Mot_21_-_Maxwell.jpg/1200px-Mot_21_-_Maxwell.jpg\n",
            "[Error]Invalid image, not saving https://upload.wikimedia.org/wikipedia/commons/thumb/f/fd/Mot_21_-_Maxwell.jpg/1200px-Mot_21_-_Maxwell.jpg\n",
            "\n",
            "[!] Issue getting: https://upload.wikimedia.org/wikipedia/commons/thumb/f/fd/Mot_21_-_Maxwell.jpg/1200px-Mot_21_-_Maxwell.jpg\n",
            "[!] Error:: No active exception to reraise\n",
            "[%] Downloading Image #49 from https://i.ytimg.com/vi/qXEJHCuWliU/maxresdefault.jpg\n",
            "[%] File Downloaded !\n",
            "\n",
            "[%] Downloading Image #50 from https://i.ytimg.com/vi/4qvg8ds0cuQ/hqdefault.jpg\n",
            "[%] File Downloaded !\n",
            "\n",
            "[%] Downloading Image #51 from https://i.ytimg.com/vi/fmVWLr0X1Sk/maxresdefault.jpg\n",
            "[%] File Downloaded !\n",
            "\n",
            "[%] Downloading Image #52 from https://i.ytimg.com/vi/RHZSoH2txOg/maxresdefault.jpg\n",
            "[%] File Downloaded !\n",
            "\n",
            "[%] Downloading Image #53 from https://i.ytimg.com/vi/3AEXlCdEqE4/maxresdefault.jpg\n",
            "[%] File Downloaded !\n",
            "\n",
            "[%] Downloading Image #54 from https://i.ytimg.com/vi/QMnkGxktaw4/hqdefault.jpg\n",
            "[%] File Downloaded !\n",
            "\n",
            "[%] Downloading Image #55 from https://i.ytimg.com/vi/Jolbg-d7cY0/maxresdefault.jpg\n",
            "[%] File Downloaded !\n",
            "\n",
            "[%] Downloading Image #56 from https://i.ytimg.com/vi/YxQTVXgGyuI/hqdefault.jpg\n",
            "[%] File Downloaded !\n",
            "\n",
            "[%] Downloading Image #57 from https://i.ytimg.com/vi/FQ5moawLaio/maxresdefault.jpg\n",
            "[%] File Downloaded !\n",
            "\n",
            "[%] Downloading Image #58 from https://upload.wikimedia.org/wikipedia/commons/thumb/d/d6/IIHS_crash_test_dummy_in_Hyundai_Tucson.jpg/1200px-IIHS_crash_test_dummy_in_Hyundai_Tucson.jpg\n",
            "[%] File Downloaded !\n",
            "\n",
            "[%] Downloading Image #59 from https://i.ytimg.com/vi/bTV20D0EtGI/maxresdefault.jpg\n",
            "[%] File Downloaded !\n",
            "\n",
            "[%] Downloading Image #60 from https://i.ytimg.com/vi/qiVnVgSDfNk/maxresdefault.jpg\n",
            "[%] File Downloaded !\n",
            "\n",
            "[%] Downloading Image #61 from https://i.ytimg.com/vi/FXW-uRlkC2g/maxresdefault.jpg\n",
            "[%] File Downloaded !\n",
            "\n",
            "[%] Downloading Image #62 from https://upload.wikimedia.org/wikipedia/commons/thumb/9/90/Heron_MJ1_kit_car_at_Te_Papa.jpg/1200px-Heron_MJ1_kit_car_at_Te_Papa.jpg\n",
            "[%] File Downloaded !\n",
            "\n",
            "[%] Downloading Image #63 from https://i.ytimg.com/vi/h0QIftWJzmQ/maxresdefault.jpg\n",
            "[%] File Downloaded !\n",
            "\n",
            "[%] Downloading Image #64 from https://i.ytimg.com/vi/EjRBgmzzpZc/maxresdefault.jpg\n",
            "[%] File Downloaded !\n",
            "\n",
            "[%] Downloading Image #65 from https://i.ytimg.com/vi/CPWmn1e6sf8/maxresdefault.jpg\n",
            "[%] File Downloaded !\n",
            "\n",
            "[%] Downloading Image #66 from https://i.ytimg.com/vi/SgynzRQ4KfU/maxresdefault.jpg\n",
            "[%] File Downloaded !\n",
            "\n",
            "[%] Downloading Image #67 from https://i.ytimg.com/vi/Z1j5gCZp7tg/maxresdefault.jpg\n",
            "[%] File Downloaded !\n",
            "\n",
            "[%] Downloading Image #68 from https://i.ytimg.com/vi/eW-C1s1h0s0/hqdefault.jpg\n",
            "[%] File Downloaded !\n",
            "\n",
            "[%] Downloading Image #69 from https://i.ytimg.com/vi/APPZ-vRSxNA/maxresdefault.jpg\n",
            "[%] File Downloaded !\n",
            "\n",
            "[%] Downloading Image #70 from https://i.ytimg.com/vi/joZBNMbRRIM/maxresdefault.jpg\n",
            "[%] File Downloaded !\n",
            "\n",
            "[%] Downloading Image #71 from https://i.ytimg.com/vi/dmV8YPNJXxk/maxresdefault.jpg\n",
            "[%] File Downloaded !\n",
            "\n",
            "[%] Downloading Image #72 from https://i.ytimg.com/vi/HngGfagt3bI/maxresdefault.jpg\n",
            "[%] File Downloaded !\n",
            "\n",
            "[%] Downloading Image #73 from https://i.ytimg.com/vi/DHR5OrIYzpQ/maxresdefault.jpg\n",
            "[%] File Downloaded !\n",
            "\n",
            "[%] Downloading Image #74 from https://i.ytimg.com/vi/Q6-t5Nn_qP0/maxresdefault.jpg\n",
            "[%] File Downloaded !\n",
            "\n",
            "[%] Downloading Image #75 from https://i.ytimg.com/vi/PEl9rahUYnM/maxresdefault.jpg\n",
            "[%] File Downloaded !\n",
            "\n",
            "[%] Downloading Image #76 from https://upload.wikimedia.org/wikipedia/commons/thumb/8/87/2004_Rover_CityRover.jpg/1200px-2004_Rover_CityRover.jpg\n",
            "[%] File Downloaded !\n",
            "\n",
            "[%] Downloading Image #77 from https://upload.wikimedia.org/wikipedia/commons/thumb/a/a8/Chrysler_Firepower_Concept_-_fvl.jpg/1200px-Chrysler_Firepower_Concept_-_fvl.jpg\n",
            "[%] File Downloaded !\n",
            "\n",
            "[%] Downloading Image #78 from https://i.ytimg.com/vi/kMADKoXGDTc/maxresdefault.jpg\n",
            "[%] File Downloaded !\n",
            "\n",
            "[%] Downloading Image #79 from https://i.ytimg.com/vi/rbzgJabbsY4/hqdefault.jpg\n",
            "[%] File Downloaded !\n",
            "\n",
            "[%] Downloading Image #80 from https://i.ytimg.com/vi/ZZIyNw3rRk0/maxresdefault.jpg\n",
            "[%] File Downloaded !\n",
            "\n",
            "[%] Downloading Image #81 from https://i.ytimg.com/vi/ypSY3LvEYSY/maxresdefault.jpg\n",
            "[%] File Downloaded !\n",
            "\n",
            "[%] Downloading Image #82 from http://3.bp.blogspot.com/_i-xZr3AAqxw/TH7PXYeF4UI/AAAAAAAAApI/Qc4lGgiX5RY/s1600/Car+concepts+2010+rich+design+16+wallpaper.jpg\n",
            "[%] File Downloaded !\n",
            "\n",
            "[%] Downloading Image #83 from https://i.ytimg.com/vi/OXmKyzvF7BI/maxresdefault.jpg\n",
            "[%] File Downloaded !\n",
            "\n",
            "[%] Downloading Image #84 from https://i.ytimg.com/vi/5sl3Lp6ueTE/hqdefault.jpg\n",
            "[%] File Downloaded !\n",
            "\n",
            "[%] Downloading Image #85 from https://i.ytimg.com/vi/HPQkcGUYH2c/maxresdefault.jpg\n",
            "[%] File Downloaded !\n",
            "\n",
            "[%] Downloading Image #86 from https://i.ytimg.com/vi/7cJotj9tKKo/hqdefault.jpg\n",
            "[%] File Downloaded !\n",
            "\n",
            "[%] Downloading Image #87 from https://i.ytimg.com/vi/3mOoArXdouc/maxresdefault.jpg\n",
            "[!] Issue getting: https://i.ytimg.com/vi/3mOoArXdouc/maxresdefault.jpg\n",
            "[!] Error:: HTTP Error 404: Not Found\n",
            "[%] Downloading Image #87 from https://upload.wikimedia.org/wikipedia/commons/thumb/c/c4/Green_Lister_Storm_(front).jpg/1200px-Green_Lister_Storm_(front).jpg\n",
            "[%] File Downloaded !\n",
            "\n",
            "[%] Downloading Image #88 from https://i.ytimg.com/vi/MJCaeIqjktM/hqdefault.jpg\n",
            "[%] File Downloaded !\n",
            "\n",
            "[%] Downloading Image #89 from https://upload.wikimedia.org/wikipedia/commons/thumb/a/ab/Chevrolet_trio_2012_WTCC_Race_of_Japan_(Race_2).jpg/1920px-Chevrolet_trio_2012_WTCC_Race_of_Japan_(Race_2).jpg\n",
            "[%] File Downloaded !\n",
            "\n",
            "[%] Downloading Image #90 from https://upload.wikimedia.org/wikipedia/commons/thumb/8/8f/Chevrolet_trio_2010_WTCC_Race_of_Japan_%28Qualify_1%29.jpg/1200px-Chevrolet_trio_2010_WTCC_Race_of_Japan_%28Qualify_1%29.jpg\n",
            "[%] File Downloaded !\n",
            "\n",
            "[%] Downloading Image #91 from https://i.ytimg.com/vi/8w638djAPyA/maxresdefault.jpg\n",
            "[%] File Downloaded !\n",
            "\n",
            "[%] Downloading Image #92 from https://i.ytimg.com/vi/eIdkJRMJ-_s/hqdefault.jpg\n",
            "[%] File Downloaded !\n",
            "\n",
            "[%] Downloading Image #93 from https://i.ytimg.com/vi/QDtZzwuzyDI/hqdefault.jpg\n",
            "[%] File Downloaded !\n",
            "\n",
            "[%] Downloading Image #94 from https://i.ytimg.com/vi/IlZBzxTKgp4/maxresdefault.jpg\n",
            "[%] File Downloaded !\n",
            "\n",
            "[%] Downloading Image #95 from http://1.bp.blogspot.com/_i-xZr3AAqxw/TH7ORUkfbmI/AAAAAAAAAow/EhUQsRMv1Ow/s1600/Car+concepts+2010+rich+design+11+wallpaper.jpg\n",
            "[%] File Downloaded !\n",
            "\n",
            "[%] Downloading Image #96 from https://i.ytimg.com/vi/khTt-6WFQZk/maxresdefault.jpg\n",
            "[%] File Downloaded !\n",
            "\n",
            "[%] Downloading Image #97 from https://i.ytimg.com/vi/byyph5xZWlU/maxresdefault.jpg\n",
            "[%] File Downloaded !\n",
            "\n",
            "\n",
            "\n",
            "[!!]Indexing page: 2\n",
            "\n",
            "[%] Indexed 35 Images on Page 2.\n",
            "\n",
            "===============================================\n",
            "\n",
            "[%] Downloading Image #98 from https://i.ytimg.com/vi/TObBn68uRSA/maxresdefault.jpg\n",
            "[%] File Downloaded !\n",
            "\n",
            "[%] Downloading Image #99 from https://i.ytimg.com/vi/uFf1j4c70s8/maxresdefault.jpg\n",
            "[%] File Downloaded !\n",
            "\n",
            "[%] Downloading Image #100 from https://i.ytimg.com/vi/moFQhZ0_-TU/maxresdefault.jpg\n",
            "[%] File Downloaded !\n",
            "\n",
            "\n",
            "\n",
            "[%] Done. Downloaded 100 images.\n",
            "\n",
            "===============================================\n",
            "\n"
          ],
          "name": "stdout"
        }
      ]
    },
    {
      "cell_type": "code",
      "metadata": {
        "id": "gO_dj9MMHWaU",
        "colab_type": "code",
        "colab": {
          "base_uri": "https://localhost:8080/",
          "height": 1000
        },
        "outputId": "e4eb73e0-0ea9-4ba3-f673-7b4d0c5c4b3d"
      },
      "source": [
        "import os\n",
        "import cv2\n",
        "path = '/content/drive/My Drive/images/bus'\n",
        "for filename in os.listdir(path):\n",
        "  i = cv2.imread(os.path.join(path,filename))\n",
        "  print(i.shape)\n"
      ],
      "execution_count": 8,
      "outputs": [
        {
          "output_type": "stream",
          "text": [
            "(900, 1200, 3)\n",
            "(900, 1200, 3)\n",
            "(760, 1200, 3)\n",
            "(1285, 1920, 3)\n",
            "(900, 1200, 3)\n",
            "(800, 1200, 3)\n",
            "(900, 1200, 3)\n",
            "(900, 1200, 3)\n",
            "(797, 1200, 3)\n",
            "(720, 1280, 3)\n",
            "(720, 1280, 3)\n",
            "(900, 1200, 3)\n",
            "(768, 1024, 3)\n",
            "(720, 1280, 3)\n",
            "(1085, 1200, 3)\n",
            "(900, 1200, 3)\n",
            "(720, 1280, 3)\n",
            "(1440, 1920, 3)\n",
            "(800, 1200, 3)\n",
            "(1075, 915, 3)\n",
            "(900, 1200, 3)\n",
            "(720, 1280, 3)\n",
            "(720, 1280, 3)\n",
            "(956, 1280, 3)\n",
            "(720, 1280, 3)\n",
            "(900, 1200, 3)\n",
            "(900, 1200, 3)\n",
            "(675, 1200, 3)\n",
            "(900, 1200, 3)\n",
            "(1196, 1200, 3)\n",
            "(2247, 2111, 3)\n",
            "(900, 1200, 3)\n",
            "(900, 1200, 3)\n",
            "(800, 1200, 3)\n",
            "(720, 1280, 3)\n",
            "(720, 1280, 3)\n",
            "(524, 803, 3)\n",
            "(900, 1200, 3)\n",
            "(720, 1280, 3)\n",
            "(790, 1200, 3)\n",
            "(720, 1280, 3)\n",
            "(799, 1200, 3)\n",
            "(720, 1280, 3)\n",
            "(720, 1280, 3)\n",
            "(720, 1280, 3)\n",
            "(720, 1280, 3)\n",
            "(768, 1024, 3)\n",
            "(720, 1280, 3)\n",
            "(299, 400, 3)\n",
            "(900, 1200, 3)\n",
            "(720, 1280, 3)\n",
            "(720, 1280, 3)\n",
            "(900, 1200, 3)\n",
            "(720, 1280, 3)\n",
            "(720, 1280, 3)\n",
            "(720, 1280, 3)\n",
            "(900, 1200, 3)\n",
            "(720, 1280, 3)\n",
            "(862, 1200, 3)\n",
            "(720, 1280, 3)\n",
            "(720, 1280, 3)\n",
            "(775, 1200, 3)\n",
            "(900, 1200, 3)\n",
            "(720, 1280, 3)\n",
            "(800, 1200, 3)\n",
            "(1280, 1920, 3)\n",
            "(720, 1280, 3)\n",
            "(900, 1200, 3)\n",
            "(900, 1200, 3)\n",
            "(798, 1200, 3)\n",
            "(768, 1024, 3)\n",
            "(900, 1200, 3)\n",
            "(803, 1200, 3)\n",
            "(810, 1200, 3)\n",
            "(360, 480, 3)\n",
            "(720, 1280, 3)\n",
            "(748, 1200, 3)\n",
            "(768, 1024, 3)\n",
            "(1800, 3200, 3)\n",
            "(718, 1200, 3)\n",
            "(807, 1200, 3)\n",
            "(900, 1200, 3)\n",
            "(900, 1200, 3)\n",
            "(900, 1200, 3)\n",
            "(760, 1200, 3)\n",
            "(1285, 1920, 3)\n",
            "(900, 1200, 3)\n",
            "(800, 1200, 3)\n",
            "(900, 1200, 3)\n",
            "(900, 1200, 3)\n",
            "(797, 1200, 3)\n",
            "(720, 1280, 3)\n",
            "(720, 1280, 3)\n",
            "(900, 1200, 3)\n",
            "(768, 1024, 3)\n",
            "(720, 1280, 3)\n",
            "(1085, 1200, 3)\n",
            "(900, 1200, 3)\n",
            "(720, 1280, 3)\n",
            "(1440, 1920, 3)\n"
          ],
          "name": "stdout"
        }
      ]
    },
    {
      "cell_type": "code",
      "metadata": {
        "id": "5yVmZpdTKJP3",
        "colab_type": "code",
        "colab": {}
      },
      "source": [
        "import os\n",
        "from skimage.io import imread\n",
        "from skimage.transform import resize"
      ],
      "execution_count": 9,
      "outputs": []
    },
    {
      "cell_type": "code",
      "metadata": {
        "id": "nRrP_JmaKib3",
        "colab_type": "code",
        "colab": {
          "base_uri": "https://localhost:8080/",
          "height": 72
        },
        "outputId": "8001a0b1-d488-4e7c-9fe9-b9424e3700c0"
      },
      "source": [
        "target = []   \n",
        "flat_data = []  \n",
        "images= []\n",
        "import numpy as np\n",
        "\n",
        "path = '/content/drive/My Drive/images/'\n",
        "for dirpath, dirnames, filenames in os.walk(path):\n",
        "  for filename in filenames:\n",
        "    category = dirpath.split('/')[-1]\n",
        "    target.append(category)\n",
        "    img = imread(f'{path}{category}/{filename}')\n",
        "    img_resized = resize(img,(50,50,3))  \n",
        "    flat_data.append(img_resized.flatten())\n",
        "    images.append(img_resized)\n",
        "\n",
        "flat_data = np.array(flat_data)\n",
        "target = np.array(target)\n",
        "images = np.array(images)\n",
        "\n",
        "print(flat_data.shape)\n",
        "print(target.shape)\n",
        "print(images.shape)\n"
      ],
      "execution_count": 13,
      "outputs": [
        {
          "output_type": "stream",
          "text": [
            "(200, 7500)\n",
            "(200,)\n",
            "(200, 50, 50, 3)\n"
          ],
          "name": "stdout"
        }
      ]
    },
    {
      "cell_type": "code",
      "metadata": {
        "id": "MU6APDB5OlBE",
        "colab_type": "code",
        "colab": {}
      },
      "source": [
        "import pandas as pd\n",
        "df = pd.DataFrame(flat_data)\n",
        "df['Target'] = target"
      ],
      "execution_count": 14,
      "outputs": []
    },
    {
      "cell_type": "code",
      "metadata": {
        "id": "x5kEnNX6PhVY",
        "colab_type": "code",
        "colab": {
          "base_uri": "https://localhost:8080/",
          "height": 255
        },
        "outputId": "69ae82d2-9fd2-49fe-bd4e-683f9cec0120"
      },
      "source": [
        "df.head()"
      ],
      "execution_count": 15,
      "outputs": [
        {
          "output_type": "execute_result",
          "data": {
            "text/html": [
              "<div>\n",
              "<style scoped>\n",
              "    .dataframe tbody tr th:only-of-type {\n",
              "        vertical-align: middle;\n",
              "    }\n",
              "\n",
              "    .dataframe tbody tr th {\n",
              "        vertical-align: top;\n",
              "    }\n",
              "\n",
              "    .dataframe thead th {\n",
              "        text-align: right;\n",
              "    }\n",
              "</style>\n",
              "<table border=\"1\" class=\"dataframe\">\n",
              "  <thead>\n",
              "    <tr style=\"text-align: right;\">\n",
              "      <th></th>\n",
              "      <th>0</th>\n",
              "      <th>1</th>\n",
              "      <th>2</th>\n",
              "      <th>3</th>\n",
              "      <th>4</th>\n",
              "      <th>5</th>\n",
              "      <th>6</th>\n",
              "      <th>7</th>\n",
              "      <th>8</th>\n",
              "      <th>9</th>\n",
              "      <th>10</th>\n",
              "      <th>11</th>\n",
              "      <th>12</th>\n",
              "      <th>13</th>\n",
              "      <th>14</th>\n",
              "      <th>15</th>\n",
              "      <th>16</th>\n",
              "      <th>17</th>\n",
              "      <th>18</th>\n",
              "      <th>19</th>\n",
              "      <th>20</th>\n",
              "      <th>21</th>\n",
              "      <th>22</th>\n",
              "      <th>23</th>\n",
              "      <th>24</th>\n",
              "      <th>25</th>\n",
              "      <th>26</th>\n",
              "      <th>27</th>\n",
              "      <th>28</th>\n",
              "      <th>29</th>\n",
              "      <th>30</th>\n",
              "      <th>31</th>\n",
              "      <th>32</th>\n",
              "      <th>33</th>\n",
              "      <th>34</th>\n",
              "      <th>35</th>\n",
              "      <th>36</th>\n",
              "      <th>37</th>\n",
              "      <th>38</th>\n",
              "      <th>39</th>\n",
              "      <th>...</th>\n",
              "      <th>7461</th>\n",
              "      <th>7462</th>\n",
              "      <th>7463</th>\n",
              "      <th>7464</th>\n",
              "      <th>7465</th>\n",
              "      <th>7466</th>\n",
              "      <th>7467</th>\n",
              "      <th>7468</th>\n",
              "      <th>7469</th>\n",
              "      <th>7470</th>\n",
              "      <th>7471</th>\n",
              "      <th>7472</th>\n",
              "      <th>7473</th>\n",
              "      <th>7474</th>\n",
              "      <th>7475</th>\n",
              "      <th>7476</th>\n",
              "      <th>7477</th>\n",
              "      <th>7478</th>\n",
              "      <th>7479</th>\n",
              "      <th>7480</th>\n",
              "      <th>7481</th>\n",
              "      <th>7482</th>\n",
              "      <th>7483</th>\n",
              "      <th>7484</th>\n",
              "      <th>7485</th>\n",
              "      <th>7486</th>\n",
              "      <th>7487</th>\n",
              "      <th>7488</th>\n",
              "      <th>7489</th>\n",
              "      <th>7490</th>\n",
              "      <th>7491</th>\n",
              "      <th>7492</th>\n",
              "      <th>7493</th>\n",
              "      <th>7494</th>\n",
              "      <th>7495</th>\n",
              "      <th>7496</th>\n",
              "      <th>7497</th>\n",
              "      <th>7498</th>\n",
              "      <th>7499</th>\n",
              "      <th>Target</th>\n",
              "    </tr>\n",
              "  </thead>\n",
              "  <tbody>\n",
              "    <tr>\n",
              "      <th>0</th>\n",
              "      <td>0.525490</td>\n",
              "      <td>0.498039</td>\n",
              "      <td>0.470588</td>\n",
              "      <td>0.605882</td>\n",
              "      <td>0.570588</td>\n",
              "      <td>0.535294</td>\n",
              "      <td>0.525490</td>\n",
              "      <td>0.481373</td>\n",
              "      <td>0.450000</td>\n",
              "      <td>0.615686</td>\n",
              "      <td>0.575490</td>\n",
              "      <td>0.545098</td>\n",
              "      <td>0.701961</td>\n",
              "      <td>0.666667</td>\n",
              "      <td>0.634314</td>\n",
              "      <td>0.496078</td>\n",
              "      <td>0.475490</td>\n",
              "      <td>0.447059</td>\n",
              "      <td>0.367647</td>\n",
              "      <td>0.339216</td>\n",
              "      <td>0.301961</td>\n",
              "      <td>0.550980</td>\n",
              "      <td>0.500000</td>\n",
              "      <td>0.447059</td>\n",
              "      <td>0.710784</td>\n",
              "      <td>0.664706</td>\n",
              "      <td>0.629412</td>\n",
              "      <td>0.662745</td>\n",
              "      <td>0.644118</td>\n",
              "      <td>0.627451</td>\n",
              "      <td>0.488235</td>\n",
              "      <td>0.466667</td>\n",
              "      <td>0.445098</td>\n",
              "      <td>0.505882</td>\n",
              "      <td>0.450980</td>\n",
              "      <td>0.403922</td>\n",
              "      <td>0.492157</td>\n",
              "      <td>0.454902</td>\n",
              "      <td>0.413725</td>\n",
              "      <td>0.431373</td>\n",
              "      <td>...</td>\n",
              "      <td>0.650980</td>\n",
              "      <td>0.647059</td>\n",
              "      <td>0.647059</td>\n",
              "      <td>0.650980</td>\n",
              "      <td>0.650980</td>\n",
              "      <td>0.647059</td>\n",
              "      <td>0.654902</td>\n",
              "      <td>0.650980</td>\n",
              "      <td>0.654902</td>\n",
              "      <td>0.658824</td>\n",
              "      <td>0.654902</td>\n",
              "      <td>0.662745</td>\n",
              "      <td>0.662745</td>\n",
              "      <td>0.661765</td>\n",
              "      <td>0.666667</td>\n",
              "      <td>0.662745</td>\n",
              "      <td>0.662745</td>\n",
              "      <td>0.667647</td>\n",
              "      <td>0.650980</td>\n",
              "      <td>0.650980</td>\n",
              "      <td>0.654902</td>\n",
              "      <td>0.677451</td>\n",
              "      <td>0.677451</td>\n",
              "      <td>0.678431</td>\n",
              "      <td>0.690196</td>\n",
              "      <td>0.690196</td>\n",
              "      <td>0.691176</td>\n",
              "      <td>0.698039</td>\n",
              "      <td>0.698039</td>\n",
              "      <td>0.696078</td>\n",
              "      <td>0.775490</td>\n",
              "      <td>0.776471</td>\n",
              "      <td>0.733333</td>\n",
              "      <td>0.802941</td>\n",
              "      <td>0.811765</td>\n",
              "      <td>0.736275</td>\n",
              "      <td>0.772549</td>\n",
              "      <td>0.781373</td>\n",
              "      <td>0.712745</td>\n",
              "      <td>bus</td>\n",
              "    </tr>\n",
              "    <tr>\n",
              "      <th>1</th>\n",
              "      <td>0.057843</td>\n",
              "      <td>0.054902</td>\n",
              "      <td>0.039216</td>\n",
              "      <td>0.079412</td>\n",
              "      <td>0.047059</td>\n",
              "      <td>0.023529</td>\n",
              "      <td>0.217647</td>\n",
              "      <td>0.120588</td>\n",
              "      <td>0.084314</td>\n",
              "      <td>0.419608</td>\n",
              "      <td>0.276471</td>\n",
              "      <td>0.232353</td>\n",
              "      <td>0.474510</td>\n",
              "      <td>0.335294</td>\n",
              "      <td>0.292157</td>\n",
              "      <td>0.458824</td>\n",
              "      <td>0.341176</td>\n",
              "      <td>0.301961</td>\n",
              "      <td>0.345098</td>\n",
              "      <td>0.258824</td>\n",
              "      <td>0.222549</td>\n",
              "      <td>0.129412</td>\n",
              "      <td>0.101961</td>\n",
              "      <td>0.078431</td>\n",
              "      <td>0.205882</td>\n",
              "      <td>0.152941</td>\n",
              "      <td>0.125490</td>\n",
              "      <td>0.338235</td>\n",
              "      <td>0.256863</td>\n",
              "      <td>0.220588</td>\n",
              "      <td>0.431373</td>\n",
              "      <td>0.321569</td>\n",
              "      <td>0.276471</td>\n",
              "      <td>0.450980</td>\n",
              "      <td>0.331373</td>\n",
              "      <td>0.286275</td>\n",
              "      <td>0.435294</td>\n",
              "      <td>0.300000</td>\n",
              "      <td>0.256863</td>\n",
              "      <td>0.366667</td>\n",
              "      <td>...</td>\n",
              "      <td>0.435294</td>\n",
              "      <td>0.474510</td>\n",
              "      <td>0.490196</td>\n",
              "      <td>0.435294</td>\n",
              "      <td>0.470588</td>\n",
              "      <td>0.486275</td>\n",
              "      <td>0.427451</td>\n",
              "      <td>0.466667</td>\n",
              "      <td>0.478431</td>\n",
              "      <td>0.425490</td>\n",
              "      <td>0.462745</td>\n",
              "      <td>0.478431</td>\n",
              "      <td>0.427451</td>\n",
              "      <td>0.462745</td>\n",
              "      <td>0.482353</td>\n",
              "      <td>0.431373</td>\n",
              "      <td>0.466667</td>\n",
              "      <td>0.482353</td>\n",
              "      <td>0.431373</td>\n",
              "      <td>0.462745</td>\n",
              "      <td>0.482353</td>\n",
              "      <td>0.427451</td>\n",
              "      <td>0.462745</td>\n",
              "      <td>0.482353</td>\n",
              "      <td>0.423529</td>\n",
              "      <td>0.457843</td>\n",
              "      <td>0.478431</td>\n",
              "      <td>0.419608</td>\n",
              "      <td>0.450980</td>\n",
              "      <td>0.470588</td>\n",
              "      <td>0.415686</td>\n",
              "      <td>0.450980</td>\n",
              "      <td>0.466667</td>\n",
              "      <td>0.415686</td>\n",
              "      <td>0.443137</td>\n",
              "      <td>0.462745</td>\n",
              "      <td>0.411765</td>\n",
              "      <td>0.439216</td>\n",
              "      <td>0.458824</td>\n",
              "      <td>bus</td>\n",
              "    </tr>\n",
              "    <tr>\n",
              "      <th>2</th>\n",
              "      <td>0.379804</td>\n",
              "      <td>0.415294</td>\n",
              "      <td>0.129020</td>\n",
              "      <td>0.342549</td>\n",
              "      <td>0.386078</td>\n",
              "      <td>0.145098</td>\n",
              "      <td>0.384706</td>\n",
              "      <td>0.408039</td>\n",
              "      <td>0.171176</td>\n",
              "      <td>0.436667</td>\n",
              "      <td>0.470196</td>\n",
              "      <td>0.235098</td>\n",
              "      <td>0.454902</td>\n",
              "      <td>0.433333</td>\n",
              "      <td>0.265098</td>\n",
              "      <td>0.372941</td>\n",
              "      <td>0.349608</td>\n",
              "      <td>0.223922</td>\n",
              "      <td>0.218039</td>\n",
              "      <td>0.272941</td>\n",
              "      <td>0.155294</td>\n",
              "      <td>0.204118</td>\n",
              "      <td>0.278627</td>\n",
              "      <td>0.156863</td>\n",
              "      <td>0.247059</td>\n",
              "      <td>0.321176</td>\n",
              "      <td>0.203529</td>\n",
              "      <td>0.227451</td>\n",
              "      <td>0.288431</td>\n",
              "      <td>0.160784</td>\n",
              "      <td>0.261176</td>\n",
              "      <td>0.319804</td>\n",
              "      <td>0.186471</td>\n",
              "      <td>0.306275</td>\n",
              "      <td>0.378627</td>\n",
              "      <td>0.207843</td>\n",
              "      <td>0.323333</td>\n",
              "      <td>0.392157</td>\n",
              "      <td>0.182157</td>\n",
              "      <td>0.364510</td>\n",
              "      <td>...</td>\n",
              "      <td>0.827451</td>\n",
              "      <td>0.827451</td>\n",
              "      <td>0.843137</td>\n",
              "      <td>0.831373</td>\n",
              "      <td>0.831373</td>\n",
              "      <td>0.847059</td>\n",
              "      <td>0.831373</td>\n",
              "      <td>0.835294</td>\n",
              "      <td>0.850980</td>\n",
              "      <td>0.835294</td>\n",
              "      <td>0.835294</td>\n",
              "      <td>0.850980</td>\n",
              "      <td>0.835294</td>\n",
              "      <td>0.835294</td>\n",
              "      <td>0.850980</td>\n",
              "      <td>0.834902</td>\n",
              "      <td>0.835294</td>\n",
              "      <td>0.850980</td>\n",
              "      <td>0.831373</td>\n",
              "      <td>0.831373</td>\n",
              "      <td>0.847059</td>\n",
              "      <td>0.827451</td>\n",
              "      <td>0.827451</td>\n",
              "      <td>0.846667</td>\n",
              "      <td>0.819608</td>\n",
              "      <td>0.821373</td>\n",
              "      <td>0.839216</td>\n",
              "      <td>0.815294</td>\n",
              "      <td>0.815294</td>\n",
              "      <td>0.834902</td>\n",
              "      <td>0.797843</td>\n",
              "      <td>0.801765</td>\n",
              "      <td>0.819216</td>\n",
              "      <td>0.772157</td>\n",
              "      <td>0.776275</td>\n",
              "      <td>0.793922</td>\n",
              "      <td>0.749020</td>\n",
              "      <td>0.752549</td>\n",
              "      <td>0.768627</td>\n",
              "      <td>bus</td>\n",
              "    </tr>\n",
              "    <tr>\n",
              "      <th>3</th>\n",
              "      <td>0.664333</td>\n",
              "      <td>0.689588</td>\n",
              "      <td>0.717039</td>\n",
              "      <td>0.570392</td>\n",
              "      <td>0.608373</td>\n",
              "      <td>0.655294</td>\n",
              "      <td>0.766667</td>\n",
              "      <td>0.790882</td>\n",
              "      <td>0.818333</td>\n",
              "      <td>0.809216</td>\n",
              "      <td>0.831373</td>\n",
              "      <td>0.848431</td>\n",
              "      <td>0.792157</td>\n",
              "      <td>0.805294</td>\n",
              "      <td>0.818843</td>\n",
              "      <td>0.766843</td>\n",
              "      <td>0.785686</td>\n",
              "      <td>0.797451</td>\n",
              "      <td>0.696725</td>\n",
              "      <td>0.720000</td>\n",
              "      <td>0.724314</td>\n",
              "      <td>0.626863</td>\n",
              "      <td>0.632157</td>\n",
              "      <td>0.618431</td>\n",
              "      <td>0.609216</td>\n",
              "      <td>0.593667</td>\n",
              "      <td>0.562294</td>\n",
              "      <td>0.576471</td>\n",
              "      <td>0.560784</td>\n",
              "      <td>0.521569</td>\n",
              "      <td>0.568627</td>\n",
              "      <td>0.556863</td>\n",
              "      <td>0.513725</td>\n",
              "      <td>0.568627</td>\n",
              "      <td>0.556863</td>\n",
              "      <td>0.513725</td>\n",
              "      <td>0.572549</td>\n",
              "      <td>0.556863</td>\n",
              "      <td>0.513725</td>\n",
              "      <td>0.568627</td>\n",
              "      <td>...</td>\n",
              "      <td>0.692745</td>\n",
              "      <td>0.657451</td>\n",
              "      <td>0.630000</td>\n",
              "      <td>0.690196</td>\n",
              "      <td>0.654902</td>\n",
              "      <td>0.630000</td>\n",
              "      <td>0.705882</td>\n",
              "      <td>0.666667</td>\n",
              "      <td>0.643137</td>\n",
              "      <td>0.728039</td>\n",
              "      <td>0.692745</td>\n",
              "      <td>0.669216</td>\n",
              "      <td>0.733333</td>\n",
              "      <td>0.701961</td>\n",
              "      <td>0.682353</td>\n",
              "      <td>0.731961</td>\n",
              "      <td>0.700588</td>\n",
              "      <td>0.684902</td>\n",
              "      <td>0.721824</td>\n",
              "      <td>0.692745</td>\n",
              "      <td>0.678431</td>\n",
              "      <td>0.709804</td>\n",
              "      <td>0.682353</td>\n",
              "      <td>0.669216</td>\n",
              "      <td>0.698039</td>\n",
              "      <td>0.673549</td>\n",
              "      <td>0.659588</td>\n",
              "      <td>0.686275</td>\n",
              "      <td>0.666667</td>\n",
              "      <td>0.654902</td>\n",
              "      <td>0.686275</td>\n",
              "      <td>0.666667</td>\n",
              "      <td>0.654902</td>\n",
              "      <td>0.686275</td>\n",
              "      <td>0.666667</td>\n",
              "      <td>0.654902</td>\n",
              "      <td>0.682353</td>\n",
              "      <td>0.662745</td>\n",
              "      <td>0.654902</td>\n",
              "      <td>bus</td>\n",
              "    </tr>\n",
              "    <tr>\n",
              "      <th>4</th>\n",
              "      <td>0.410784</td>\n",
              "      <td>0.384314</td>\n",
              "      <td>0.340196</td>\n",
              "      <td>0.437255</td>\n",
              "      <td>0.393137</td>\n",
              "      <td>0.348039</td>\n",
              "      <td>0.512745</td>\n",
              "      <td>0.480392</td>\n",
              "      <td>0.432353</td>\n",
              "      <td>0.600980</td>\n",
              "      <td>0.581373</td>\n",
              "      <td>0.535294</td>\n",
              "      <td>0.710784</td>\n",
              "      <td>0.714706</td>\n",
              "      <td>0.664706</td>\n",
              "      <td>0.884314</td>\n",
              "      <td>0.892157</td>\n",
              "      <td>0.849020</td>\n",
              "      <td>0.894118</td>\n",
              "      <td>0.890196</td>\n",
              "      <td>0.845098</td>\n",
              "      <td>0.905882</td>\n",
              "      <td>0.913725</td>\n",
              "      <td>0.870588</td>\n",
              "      <td>0.921569</td>\n",
              "      <td>0.927451</td>\n",
              "      <td>0.886275</td>\n",
              "      <td>0.872549</td>\n",
              "      <td>0.884314</td>\n",
              "      <td>0.845098</td>\n",
              "      <td>0.723529</td>\n",
              "      <td>0.759804</td>\n",
              "      <td>0.713725</td>\n",
              "      <td>0.843137</td>\n",
              "      <td>0.857843</td>\n",
              "      <td>0.816667</td>\n",
              "      <td>0.921569</td>\n",
              "      <td>0.929412</td>\n",
              "      <td>0.886275</td>\n",
              "      <td>0.917647</td>\n",
              "      <td>...</td>\n",
              "      <td>0.313725</td>\n",
              "      <td>0.290196</td>\n",
              "      <td>0.298039</td>\n",
              "      <td>0.313725</td>\n",
              "      <td>0.290196</td>\n",
              "      <td>0.298039</td>\n",
              "      <td>0.309804</td>\n",
              "      <td>0.286275</td>\n",
              "      <td>0.294118</td>\n",
              "      <td>0.309804</td>\n",
              "      <td>0.286275</td>\n",
              "      <td>0.294118</td>\n",
              "      <td>0.305882</td>\n",
              "      <td>0.282353</td>\n",
              "      <td>0.290196</td>\n",
              "      <td>0.298039</td>\n",
              "      <td>0.274510</td>\n",
              "      <td>0.282353</td>\n",
              "      <td>0.301961</td>\n",
              "      <td>0.278431</td>\n",
              "      <td>0.286275</td>\n",
              "      <td>0.305882</td>\n",
              "      <td>0.282353</td>\n",
              "      <td>0.290196</td>\n",
              "      <td>0.301961</td>\n",
              "      <td>0.278431</td>\n",
              "      <td>0.286275</td>\n",
              "      <td>0.298039</td>\n",
              "      <td>0.274510</td>\n",
              "      <td>0.282353</td>\n",
              "      <td>0.298039</td>\n",
              "      <td>0.274510</td>\n",
              "      <td>0.282353</td>\n",
              "      <td>0.290196</td>\n",
              "      <td>0.274510</td>\n",
              "      <td>0.286275</td>\n",
              "      <td>0.286275</td>\n",
              "      <td>0.278431</td>\n",
              "      <td>0.286275</td>\n",
              "      <td>bus</td>\n",
              "    </tr>\n",
              "  </tbody>\n",
              "</table>\n",
              "<p>5 rows × 7501 columns</p>\n",
              "</div>"
            ],
            "text/plain": [
              "          0         1         2         3  ...      7497      7498      7499  Target\n",
              "0  0.525490  0.498039  0.470588  0.605882  ...  0.772549  0.781373  0.712745     bus\n",
              "1  0.057843  0.054902  0.039216  0.079412  ...  0.411765  0.439216  0.458824     bus\n",
              "2  0.379804  0.415294  0.129020  0.342549  ...  0.749020  0.752549  0.768627     bus\n",
              "3  0.664333  0.689588  0.717039  0.570392  ...  0.682353  0.662745  0.654902     bus\n",
              "4  0.410784  0.384314  0.340196  0.437255  ...  0.286275  0.278431  0.286275     bus\n",
              "\n",
              "[5 rows x 7501 columns]"
            ]
          },
          "metadata": {
            "tags": []
          },
          "execution_count": 15
        }
      ]
    },
    {
      "cell_type": "code",
      "metadata": {
        "id": "rvacOGc41iHH",
        "colab_type": "code",
        "colab": {
          "base_uri": "https://localhost:8080/",
          "height": 35
        },
        "outputId": "8dab4cfc-ebb6-4ef2-ef10-66318f573e29"
      },
      "source": [
        "df.shape"
      ],
      "execution_count": 16,
      "outputs": [
        {
          "output_type": "execute_result",
          "data": {
            "text/plain": [
              "(200, 7501)"
            ]
          },
          "metadata": {
            "tags": []
          },
          "execution_count": 16
        }
      ]
    },
    {
      "cell_type": "code",
      "metadata": {
        "id": "cw7kt87TCTfD",
        "colab_type": "code",
        "colab": {
          "base_uri": "https://localhost:8080/",
          "height": 253
        },
        "outputId": "026c17b8-ba57-4c87-a6f6-7e015b9848df"
      },
      "source": [
        "x = df.iloc[:,0:7500].values\n",
        "x"
      ],
      "execution_count": 17,
      "outputs": [
        {
          "output_type": "execute_result",
          "data": {
            "text/plain": [
              "array([[0.5254902 , 0.49803922, 0.47058824, ..., 0.77254902, 0.78137255,\n",
              "        0.7127451 ],\n",
              "       [0.05784314, 0.05490196, 0.03921569, ..., 0.41176471, 0.43921569,\n",
              "        0.45882353],\n",
              "       [0.37980392, 0.41529412, 0.12901961, ..., 0.74901961, 0.75254902,\n",
              "        0.76862745],\n",
              "       ...,\n",
              "       [0.58156863, 0.00392157, 0.00784314, ..., 0.27843137, 0.29019608,\n",
              "        0.30980392],\n",
              "       [0.1372549 , 0.16470588, 0.18823529, ..., 0.10980392, 0.12156863,\n",
              "        0.142     ],\n",
              "       [0.72192157, 0.72666667, 0.7392549 , ..., 0.16078431, 0.16078431,\n",
              "        0.16078431]])"
            ]
          },
          "metadata": {
            "tags": []
          },
          "execution_count": 17
        }
      ]
    },
    {
      "cell_type": "code",
      "metadata": {
        "id": "aay_wccWCpXG",
        "colab_type": "code",
        "colab": {
          "base_uri": "https://localhost:8080/",
          "height": 435
        },
        "outputId": "9746e96c-288e-4be8-d90e-3211aefabd37"
      },
      "source": [
        "y = df.iloc[:,7500].values\n",
        "y"
      ],
      "execution_count": 18,
      "outputs": [
        {
          "output_type": "execute_result",
          "data": {
            "text/plain": [
              "array(['bus', 'bus', 'bus', 'bus', 'bus', 'bus', 'bus', 'bus', 'bus',\n",
              "       'bus', 'bus', 'bus', 'bus', 'bus', 'bus', 'bus', 'bus', 'bus',\n",
              "       'bus', 'bus', 'bus', 'bus', 'bus', 'bus', 'bus', 'bus', 'bus',\n",
              "       'bus', 'bus', 'bus', 'bus', 'bus', 'bus', 'bus', 'bus', 'bus',\n",
              "       'bus', 'bus', 'bus', 'bus', 'bus', 'bus', 'bus', 'bus', 'bus',\n",
              "       'bus', 'bus', 'bus', 'bus', 'bus', 'bus', 'bus', 'bus', 'bus',\n",
              "       'bus', 'bus', 'bus', 'bus', 'bus', 'bus', 'bus', 'bus', 'bus',\n",
              "       'bus', 'bus', 'bus', 'bus', 'bus', 'bus', 'bus', 'bus', 'bus',\n",
              "       'bus', 'bus', 'bus', 'bus', 'bus', 'bus', 'bus', 'bus', 'bus',\n",
              "       'bus', 'bus', 'bus', 'bus', 'bus', 'bus', 'bus', 'bus', 'bus',\n",
              "       'bus', 'bus', 'bus', 'bus', 'bus', 'bus', 'bus', 'bus', 'bus',\n",
              "       'bus', 'car', 'car', 'car', 'car', 'car', 'car', 'car', 'car',\n",
              "       'car', 'car', 'car', 'car', 'car', 'car', 'car', 'car', 'car',\n",
              "       'car', 'car', 'car', 'car', 'car', 'car', 'car', 'car', 'car',\n",
              "       'car', 'car', 'car', 'car', 'car', 'car', 'car', 'car', 'car',\n",
              "       'car', 'car', 'car', 'car', 'car', 'car', 'car', 'car', 'car',\n",
              "       'car', 'car', 'car', 'car', 'car', 'car', 'car', 'car', 'car',\n",
              "       'car', 'car', 'car', 'car', 'car', 'car', 'car', 'car', 'car',\n",
              "       'car', 'car', 'car', 'car', 'car', 'car', 'car', 'car', 'car',\n",
              "       'car', 'car', 'car', 'car', 'car', 'car', 'car', 'car', 'car',\n",
              "       'car', 'car', 'car', 'car', 'car', 'car', 'car', 'car', 'car',\n",
              "       'car', 'car', 'car', 'car', 'car', 'car', 'car', 'car', 'car',\n",
              "       'car', 'car'], dtype=object)"
            ]
          },
          "metadata": {
            "tags": []
          },
          "execution_count": 18
        }
      ]
    },
    {
      "cell_type": "code",
      "metadata": {
        "id": "pSb4tLrwDIBg",
        "colab_type": "code",
        "colab": {}
      },
      "source": [
        "from sklearn.neighbors import KNeighborsClassifier"
      ],
      "execution_count": 19,
      "outputs": []
    },
    {
      "cell_type": "code",
      "metadata": {
        "id": "ZX_Bk2mGDUIt",
        "colab_type": "code",
        "colab": {
          "base_uri": "https://localhost:8080/",
          "height": 287
        },
        "outputId": "d1c2d41b-bdfc-486d-e14f-d49fb6544136"
      },
      "source": [
        "from skimage.io import imread\n",
        "import matplotlib.pyplot as plt\n",
        "i = imread('/content/drive/My Drive/index.jpg')\n",
        "img_resized = resize(i,(50,50,3)) \n",
        "fltimage=img_resized.flatten()\n",
        "model = KNeighborsClassifier(n_neighbors=17)\n",
        "model.fit(x,y)\n",
        "y_pred = model.predict([fltimage])\n",
        "plt.imshow(i)"
      ],
      "execution_count": 51,
      "outputs": [
        {
          "output_type": "execute_result",
          "data": {
            "text/plain": [
              "<matplotlib.image.AxesImage at 0x7f1e638f1550>"
            ]
          },
          "metadata": {
            "tags": []
          },
          "execution_count": 51
        },
        {
          "output_type": "display_data",
          "data": {
            "image/png": "[encoded data removed]",
            "text/plain": [
              "<Figure size 432x288 with 1 Axes>"
            ]
          },
          "metadata": {
            "tags": [],
            "needs_background": "light"
          }
        }
      ]
    },
    {
      "cell_type": "code",
      "metadata": {
        "id": "MJhBDp2sDGzI",
        "colab_type": "code",
        "colab": {
          "base_uri": "https://localhost:8080/",
          "height": 35
        },
        "outputId": "80395536-165a-4e6f-ec66-be42e1388059"
      },
      "source": [
        "y_pred\n"
      ],
      "execution_count": 52,
      "outputs": [
        {
          "output_type": "execute_result",
          "data": {
            "text/plain": [
              "array(['car'], dtype=object)"
            ]
          },
          "metadata": {
            "tags": []
          },
          "execution_count": 52
        }
      ]
    },
    {
      "cell_type": "code",
      "metadata": {
        "id": "AFUlVRGbtIQb",
        "colab_type": "code",
        "colab": {}
      },
      "source": [
        "import numpy as np\n",
        "z = np.arange(1,48)"
      ],
      "execution_count": 53,
      "outputs": []
    },
    {
      "cell_type": "code",
      "metadata": {
        "id": "bheXOvsNtf8C",
        "colab_type": "code",
        "colab": {
          "base_uri": "https://localhost:8080/",
          "height": 72
        },
        "outputId": "e2e1acfa-43c8-4dbe-dc0d-6556c5801dd4"
      },
      "source": [
        "z"
      ],
      "execution_count": 54,
      "outputs": [
        {
          "output_type": "execute_result",
          "data": {
            "text/plain": [
              "array([ 1,  2,  3,  4,  5,  6,  7,  8,  9, 10, 11, 12, 13, 14, 15, 16, 17,\n",
              "       18, 19, 20, 21, 22, 23, 24, 25, 26, 27, 28, 29, 30, 31, 32, 33, 34,\n",
              "       35, 36, 37, 38, 39, 40, 41, 42, 43, 44, 45, 46, 47])"
            ]
          },
          "metadata": {
            "tags": []
          },
          "execution_count": 54
        }
      ]
    },
    {
      "cell_type": "code",
      "metadata": {
        "id": "kQnJZmBjtgZ9",
        "colab_type": "code",
        "colab": {
          "base_uri": "https://localhost:8080/",
          "height": 235
        },
        "outputId": "9eb17181-3dd2-4e65-9359-f820087efd0a"
      },
      "source": [
        "from sklearn.model_selection import GridSearchCV\n",
        "param = {'n_neighbors':z}\n",
        "model = KNeighborsClassifier()\n",
        "model_grid = GridSearchCV(model,param)\n",
        "model_grid.fit(x,y)"
      ],
      "execution_count": 55,
      "outputs": [
        {
          "output_type": "execute_result",
          "data": {
            "text/plain": [
              "GridSearchCV(cv=None, error_score=nan,\n",
              "             estimator=KNeighborsClassifier(algorithm='auto', leaf_size=30,\n",
              "                                            metric='minkowski',\n",
              "                                            metric_params=None, n_jobs=None,\n",
              "                                            n_neighbors=5, p=2,\n",
              "                                            weights='uniform'),\n",
              "             iid='deprecated', n_jobs=None,\n",
              "             param_grid={'n_neighbors': array([ 1,  2,  3,  4,  5,  6,  7,  8,  9, 10, 11, 12, 13, 14, 15, 16, 17,\n",
              "       18, 19, 20, 21, 22, 23, 24, 25, 26, 27, 28, 29, 30, 31, 32, 33, 34,\n",
              "       35, 36, 37, 38, 39, 40, 41, 42, 43, 44, 45, 46, 47])},\n",
              "             pre_dispatch='2*n_jobs', refit=True, return_train_score=False,\n",
              "             scoring=None, verbose=0)"
            ]
          },
          "metadata": {
            "tags": []
          },
          "execution_count": 55
        }
      ]
    },
    {
      "cell_type": "code",
      "metadata": {
        "id": "rL9H3epVuKZm",
        "colab_type": "code",
        "colab": {
          "base_uri": "https://localhost:8080/",
          "height": 35
        },
        "outputId": "0310f958-2c6c-4d79-a0c2-93f55ddaa709"
      },
      "source": [
        "model_grid.best_params_"
      ],
      "execution_count": 56,
      "outputs": [
        {
          "output_type": "execute_result",
          "data": {
            "text/plain": [
              "{'n_neighbors': 17}"
            ]
          },
          "metadata": {
            "tags": []
          },
          "execution_count": 56
        }
      ]
    },
    {
      "cell_type": "code",
      "metadata": {
        "id": "1cBg42xlviyi",
        "colab_type": "code",
        "colab": {}
      },
      "source": [
        "from sklearn.model_selection import train_test_split\n",
        "x_train,x_test,y_train,y_test = train_test_split(x,y,random_state=0)"
      ],
      "execution_count": 57,
      "outputs": []
    },
    {
      "cell_type": "code",
      "metadata": {
        "id": "P56HdVddwFvK",
        "colab_type": "code",
        "colab": {
          "base_uri": "https://localhost:8080/",
          "height": 35
        },
        "outputId": "91a359f9-63ef-4022-b33d-dc540a0c8cf1"
      },
      "source": [
        "x_train.shape"
      ],
      "execution_count": 58,
      "outputs": [
        {
          "output_type": "execute_result",
          "data": {
            "text/plain": [
              "(150, 7500)"
            ]
          },
          "metadata": {
            "tags": []
          },
          "execution_count": 58
        }
      ]
    },
    {
      "cell_type": "code",
      "metadata": {
        "id": "MtRpAy8uwHUw",
        "colab_type": "code",
        "colab": {
          "base_uri": "https://localhost:8080/",
          "height": 35
        },
        "outputId": "1c3b231f-f4d3-4fbd-b39e-80d342fe007b"
      },
      "source": [
        "x_test.shape"
      ],
      "execution_count": 59,
      "outputs": [
        {
          "output_type": "execute_result",
          "data": {
            "text/plain": [
              "(50, 7500)"
            ]
          },
          "metadata": {
            "tags": []
          },
          "execution_count": 59
        }
      ]
    },
    {
      "cell_type": "code",
      "metadata": {
        "id": "Odev4btgwJCl",
        "colab_type": "code",
        "colab": {
          "base_uri": "https://localhost:8080/",
          "height": 72
        },
        "outputId": "6cde8587-6451-409b-94b9-1abbef316cb1"
      },
      "source": [
        "model = KNeighborsClassifier(n_neighbors=7)\n",
        "model.fit(x_train,y_train)"
      ],
      "execution_count": 60,
      "outputs": [
        {
          "output_type": "execute_result",
          "data": {
            "text/plain": [
              "KNeighborsClassifier(algorithm='auto', leaf_size=30, metric='minkowski',\n",
              "                     metric_params=None, n_jobs=None, n_neighbors=7, p=2,\n",
              "                     weights='uniform')"
            ]
          },
          "metadata": {
            "tags": []
          },
          "execution_count": 60
        }
      ]
    },
    {
      "cell_type": "code",
      "metadata": {
        "id": "P5QkLqxJwRiq",
        "colab_type": "code",
        "colab": {}
      },
      "source": [
        "y_pred = model.predict(x_test)"
      ],
      "execution_count": 61,
      "outputs": []
    },
    {
      "cell_type": "code",
      "metadata": {
        "id": "3rkzWrSiwVC-",
        "colab_type": "code",
        "colab": {
          "base_uri": "https://localhost:8080/",
          "height": 126
        },
        "outputId": "c75be028-2825-4d8f-b586-c93eb9ad0fbf"
      },
      "source": [
        "y_pred "
      ],
      "execution_count": 62,
      "outputs": [
        {
          "output_type": "execute_result",
          "data": {
            "text/plain": [
              "array(['bus', 'bus', 'car', 'bus', 'car', 'car', 'bus', 'car', 'bus',\n",
              "       'bus', 'car', 'car', 'car', 'bus', 'bus', 'bus', 'bus', 'bus',\n",
              "       'car', 'car', 'car', 'car', 'bus', 'car', 'bus', 'bus', 'bus',\n",
              "       'car', 'bus', 'bus', 'bus', 'bus', 'bus', 'bus', 'bus', 'car',\n",
              "       'bus', 'bus', 'bus', 'bus', 'car', 'bus', 'bus', 'bus', 'bus',\n",
              "       'bus', 'bus', 'bus', 'car', 'car'], dtype=object)"
            ]
          },
          "metadata": {
            "tags": []
          },
          "execution_count": 62
        }
      ]
    },
    {
      "cell_type": "code",
      "metadata": {
        "id": "BVh4tVoWwWDT",
        "colab_type": "code",
        "colab": {
          "base_uri": "https://localhost:8080/",
          "height": 126
        },
        "outputId": "b09c4275-6a99-4b54-c593-d9c87a906fc4"
      },
      "source": [
        "y_test "
      ],
      "execution_count": 63,
      "outputs": [
        {
          "output_type": "execute_result",
          "data": {
            "text/plain": [
              "array(['bus', 'car', 'car', 'bus', 'car', 'car', 'bus', 'car', 'bus',\n",
              "       'car', 'bus', 'car', 'car', 'car', 'bus', 'bus', 'bus', 'car',\n",
              "       'bus', 'bus', 'car', 'car', 'bus', 'car', 'bus', 'car', 'car',\n",
              "       'car', 'car', 'bus', 'bus', 'bus', 'car', 'car', 'bus', 'car',\n",
              "       'car', 'bus', 'bus', 'car', 'car', 'bus', 'bus', 'car', 'car',\n",
              "       'bus', 'bus', 'bus', 'car', 'car'], dtype=object)"
            ]
          },
          "metadata": {
            "tags": []
          },
          "execution_count": 63
        }
      ]
    },
    {
      "cell_type": "code",
      "metadata": {
        "id": "6nVI2Xf1wX9f",
        "colab_type": "code",
        "colab": {
          "base_uri": "https://localhost:8080/",
          "height": 35
        },
        "outputId": "0bb5ea6a-4a36-44d6-bd49-42f83d140534"
      },
      "source": [
        "from sklearn.metrics import accuracy_score,confusion_matrix\n",
        "accuracy_score(y_pred,y_test)"
      ],
      "execution_count": 64,
      "outputs": [
        {
          "output_type": "execute_result",
          "data": {
            "text/plain": [
              "0.68"
            ]
          },
          "metadata": {
            "tags": []
          },
          "execution_count": 64
        }
      ]
    },
    {
      "cell_type": "code",
      "metadata": {
        "id": "BSlJEkajwsgH",
        "colab_type": "code",
        "colab": {
          "base_uri": "https://localhost:8080/",
          "height": 53
        },
        "outputId": "f43095c4-b751-4b9b-afb0-955b30326d92"
      },
      "source": [
        "confusion_matrix(y_pred,y_test)"
      ],
      "execution_count": 65,
      "outputs": [
        {
          "output_type": "execute_result",
          "data": {
            "text/plain": [
              "array([[20, 13],\n",
              "       [ 3, 14]])"
            ]
          },
          "metadata": {
            "tags": []
          },
          "execution_count": 65
        }
      ]
    },
    {
      "cell_type": "code",
      "metadata": {
        "id": "yetaVXGFwyAK",
        "colab_type": "code",
        "colab": {
          "base_uri": "https://localhost:8080/",
          "height": 35
        },
        "outputId": "e711cd3a-b8b4-497e-e75a-6417a85f773a"
      },
      "source": [
        "a =np.array([1,2,3,4,5,6,7,8,9,10])\n",
        "a"
      ],
      "execution_count": 66,
      "outputs": [
        {
          "output_type": "execute_result",
          "data": {
            "text/plain": [
              "array([ 1,  2,  3,  4,  5,  6,  7,  8,  9, 10])"
            ]
          },
          "metadata": {
            "tags": []
          },
          "execution_count": 66
        }
      ]
    },
    {
      "cell_type": "code",
      "metadata": {
        "id": "6BA-oNDHE4ME",
        "colab_type": "code",
        "colab": {
          "base_uri": "https://localhost:8080/",
          "height": 53
        },
        "outputId": "49ea2a53-b3c5-48e7-bd70-5260fb748e97"
      },
      "source": [
        "amax = a.max()\n",
        "amin = a.min()\n",
        "anorm = (a-amin)/(amax-amin)\n",
        "anorm"
      ],
      "execution_count": 67,
      "outputs": [
        {
          "output_type": "execute_result",
          "data": {
            "text/plain": [
              "array([0.        , 0.11111111, 0.22222222, 0.33333333, 0.44444444,\n",
              "       0.55555556, 0.66666667, 0.77777778, 0.88888889, 1.        ])"
            ]
          },
          "metadata": {
            "tags": []
          },
          "execution_count": 67
        }
      ]
    },
    {
      "cell_type": "code",
      "metadata": {
        "id": "tCINmWDTyao8",
        "colab_type": "code",
        "colab": {}
      },
      "source": [
        "# Min Max Scaler - Preprocessing Technique\n",
        "from sklearn.preprocessing import MinMaxScaler\n",
        "norm = MinMaxScaler()\n",
        "x_train = norm.fit_transform(x_train)\n",
        "x_test = norm.transform(x_test)"
      ],
      "execution_count": 68,
      "outputs": []
    },
    {
      "cell_type": "code",
      "metadata": {
        "id": "27fjwGvGHnaP",
        "colab_type": "code",
        "colab": {
          "base_uri": "https://localhost:8080/",
          "height": 253
        },
        "outputId": "d360bd68-ca84-4dfb-ac1c-ca6625b57721"
      },
      "source": [
        "x_train"
      ],
      "execution_count": 69,
      "outputs": [
        {
          "output_type": "execute_result",
          "data": {
            "text/plain": [
              "array([[0.42745098, 0.44901961, 0.51372549, ..., 0.50098425, 0.51968504,\n",
              "        0.48031496],\n",
              "       [0.02352941, 0.01960784, 0.02352941, ..., 0.14173228, 0.15354331,\n",
              "        0.17322835],\n",
              "       [0.0745098 , 0.11372549, 0.14901961, ..., 0.51492126, 0.59055118,\n",
              "        0.68110236],\n",
              "       ...,\n",
              "       [0.45094118, 0.54469412, 0.73207843, ..., 0.46248031, 0.51329528,\n",
              "        0.51366142],\n",
              "       [0.83921569, 0.86666667, 0.91764706, ..., 0.49724409, 0.49606299,\n",
              "        0.54724409],\n",
              "       [0.        , 0.        , 0.        , ..., 0.        , 0.        ,\n",
              "        0.        ]])"
            ]
          },
          "metadata": {
            "tags": []
          },
          "execution_count": 69
        }
      ]
    },
    {
      "cell_type": "code",
      "metadata": {
        "colab_type": "code",
        "id": "6Y5Elq4eH6q6",
        "colab": {
          "base_uri": "https://localhost:8080/",
          "height": 72
        },
        "outputId": "41e87603-3a8e-4a65-ae9c-c7ab5a0296a8"
      },
      "source": [
        "model = KNeighborsClassifier(n_neighbors=1)\n",
        "model.fit(x_train,y_train)"
      ],
      "execution_count": 70,
      "outputs": [
        {
          "output_type": "execute_result",
          "data": {
            "text/plain": [
              "KNeighborsClassifier(algorithm='auto', leaf_size=30, metric='minkowski',\n",
              "                     metric_params=None, n_jobs=None, n_neighbors=1, p=2,\n",
              "                     weights='uniform')"
            ]
          },
          "metadata": {
            "tags": []
          },
          "execution_count": 70
        }
      ]
    },
    {
      "cell_type": "code",
      "metadata": {
        "colab_type": "code",
        "id": "VJZvinUVH6rA",
        "colab": {}
      },
      "source": [
        "y_pred = model.predict(x_test)"
      ],
      "execution_count": 71,
      "outputs": []
    },
    {
      "cell_type": "code",
      "metadata": {
        "colab_type": "code",
        "id": "dMIBga3vH6rE",
        "colab": {
          "base_uri": "https://localhost:8080/",
          "height": 126
        },
        "outputId": "da59413a-1b6d-40ae-819a-68ce97155071"
      },
      "source": [
        "y_pred "
      ],
      "execution_count": 72,
      "outputs": [
        {
          "output_type": "execute_result",
          "data": {
            "text/plain": [
              "array(['car', 'bus', 'car', 'bus', 'car', 'car', 'bus', 'car', 'bus',\n",
              "       'bus', 'bus', 'car', 'car', 'bus', 'bus', 'bus', 'bus', 'bus',\n",
              "       'car', 'car', 'car', 'car', 'bus', 'car', 'bus', 'bus', 'bus',\n",
              "       'car', 'bus', 'bus', 'bus', 'bus', 'bus', 'car', 'bus', 'car',\n",
              "       'bus', 'bus', 'bus', 'bus', 'car', 'bus', 'bus', 'bus', 'bus',\n",
              "       'car', 'bus', 'bus', 'car', 'car'], dtype=object)"
            ]
          },
          "metadata": {
            "tags": []
          },
          "execution_count": 72
        }
      ]
    },
    {
      "cell_type": "code",
      "metadata": {
        "colab_type": "code",
        "id": "vGWiOwCWH6rI",
        "colab": {
          "base_uri": "https://localhost:8080/",
          "height": 126
        },
        "outputId": "810bb167-6c7a-411c-95c6-e0aa04af6599"
      },
      "source": [
        "y_test "
      ],
      "execution_count": 73,
      "outputs": [
        {
          "output_type": "execute_result",
          "data": {
            "text/plain": [
              "array(['bus', 'car', 'car', 'bus', 'car', 'car', 'bus', 'car', 'bus',\n",
              "       'car', 'bus', 'car', 'car', 'car', 'bus', 'bus', 'bus', 'car',\n",
              "       'bus', 'bus', 'car', 'car', 'bus', 'car', 'bus', 'car', 'car',\n",
              "       'car', 'car', 'bus', 'bus', 'bus', 'car', 'car', 'bus', 'car',\n",
              "       'car', 'bus', 'bus', 'car', 'car', 'bus', 'bus', 'car', 'car',\n",
              "       'bus', 'bus', 'bus', 'car', 'car'], dtype=object)"
            ]
          },
          "metadata": {
            "tags": []
          },
          "execution_count": 73
        }
      ]
    },
    {
      "cell_type": "code",
      "metadata": {
        "colab_type": "code",
        "id": "vTkoSGqPH6rN",
        "colab": {
          "base_uri": "https://localhost:8080/",
          "height": 35
        },
        "outputId": "2ed2ddd6-4a9b-4ea6-b6f9-969261a4feb2"
      },
      "source": [
        "# Evaluation: Accuracy Score, Confusion Matrix\n",
        "from sklearn.metrics import accuracy_score,confusion_matrix\n",
        "accuracy_score(y_pred,y_test)"
      ],
      "execution_count": 74,
      "outputs": [
        {
          "output_type": "execute_result",
          "data": {
            "text/plain": [
              "0.68"
            ]
          },
          "metadata": {
            "tags": []
          },
          "execution_count": 74
        }
      ]
    },
    {
      "cell_type": "code",
      "metadata": {
        "colab_type": "code",
        "id": "g39M0YLaH6rR",
        "colab": {
          "base_uri": "https://localhost:8080/",
          "height": 53
        },
        "outputId": "ec66dbea-641e-4a25-ef11-cedf7abcb5c1"
      },
      "source": [
        "confusion_matrix(y_pred,y_test)"
      ],
      "execution_count": 75,
      "outputs": [
        {
          "output_type": "execute_result",
          "data": {
            "text/plain": [
              "array([[19, 12],\n",
              "       [ 4, 15]])"
            ]
          },
          "metadata": {
            "tags": []
          },
          "execution_count": 75
        }
      ]
    },
    {
      "cell_type": "code",
      "metadata": {
        "id": "JMoL1HWDEDFy",
        "colab_type": "code",
        "colab": {
          "base_uri": "https://localhost:8080/",
          "height": 287
        },
        "outputId": "03dfc1e9-3c21-40dc-ef33-a2ae6aa56441"
      },
      "source": [
        "plt.imshow(i)"
      ],
      "execution_count": 76,
      "outputs": [
        {
          "output_type": "execute_result",
          "data": {
            "text/plain": [
              "<matplotlib.image.AxesImage at 0x7f1e63881358>"
            ]
          },
          "metadata": {
            "tags": []
          },
          "execution_count": 76
        },
        {
          "output_type": "display_data",
          "data": {
            "image/png": "[encoded data removed]",
            "text/plain": [
              "<Figure size 432x288 with 1 Axes>"
            ]
          },
          "metadata": {
            "tags": [],
            "needs_background": "light"
          }
        }
      ]
    },
    {
      "cell_type": "code",
      "metadata": {
        "id": "QLrFdqRUH-8j",
        "colab_type": "code",
        "colab": {
          "base_uri": "https://localhost:8080/",
          "height": 35
        },
        "outputId": "5e580ee6-1dfe-4bda-9e0b-c321cd2c89e8"
      },
      "source": [
        "y1 = [fltimage]\n",
        "y1 = norm.transform(y1)\n",
        "model.predict(y1)"
      ],
      "execution_count": 77,
      "outputs": [
        {
          "output_type": "execute_result",
          "data": {
            "text/plain": [
              "array(['car'], dtype=object)"
            ]
          },
          "metadata": {
            "tags": []
          },
          "execution_count": 77
        }
      ]
    },
    {
      "cell_type": "code",
      "metadata": {
        "id": "QQSMUvZYdFFl",
        "colab_type": "code",
        "colab": {}
      },
      "source": [
        ""
      ],
      "execution_count": 77,
      "outputs": []
    }
  ]
}